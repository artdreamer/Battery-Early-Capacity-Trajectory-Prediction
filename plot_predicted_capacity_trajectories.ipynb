{
 "cells": [
  {
   "cell_type": "code",
   "execution_count": 12,
   "metadata": {
    "collapsed": false,
    "pycharm": {
     "name": "#%%\n"
    }
   },
   "outputs": [],
   "source": [
    "import matplotlib.pyplot as plt\n",
    "import numpy as np\n",
    "from load_data import load_dataset\n",
    "from matplotlib import cm\n",
    "from matplotlib import rcParams\n",
    "import pickle"
   ]
  },
  {
   "cell_type": "markdown",
   "metadata": {
    "collapsed": false,
    "pycharm": {
     "name": "#%% md\n"
    }
   },
   "source": [
    "There will be three rows and three columns of subplots in the figure. Each row represents a test dataset.\n",
    "The column of subplots show the predicted capacity trajectories together with the observed capacity trajectories.\n",
    "The second column shows the histogram of the MAEQ\n",
    "The third coln shows the histogram of MAEEoL."
   ]
  },
  {
   "cell_type": "code",
   "execution_count": 13,
   "metadata": {
    "collapsed": false,
    "pycharm": {
     "name": "#%%\n"
    }
   },
   "outputs": [],
   "source": [
    "# data preparation\n",
    "# MAEQs, MAElife, predicted capacity trajectories, and actual capacity trajectories for each dataset\n",
    "# MAEQs = [MAEQtrain, MAEQtest1, MAEQtest1, MAEQtest2]\n",
    "# MAEEoLs = [MAEEoL_train, MAEEoL_test1, MAEEoL_test2, MAEEoL_test3]\n",
    "# caps_all = [caps_train, caps_test1, caps_test1, caps_test2, caps_test3]"
   ]
  },
  {
   "cell_type": "code",
   "execution_count": 14,
   "metadata": {
    "collapsed": false,
    "pycharm": {
     "name": "#%%\n"
    }
   },
   "outputs": [],
   "source": [
    "def load_data_for_cap_pred_plots(model_name, dataset_name):\n",
    "    if dataset_name == \"169 LFP\":\n",
    "        dataset_ids = [i for i in range(4)]\n",
    "    elif dataset_name == \"48 NMC\":\n",
    "        dataset_ids = [i for i in range(2)]\n",
    "    Q_metric_file_path = \"End to End Framework/All metrics/\" + dataset_name + '/' +model_name + \"/Q_rmse_mae_mape.pkl\"\n",
    "    with open(Q_metric_file_path, 'rb') as file:\n",
    "        myvar = pickle.load(file)\n",
    "    MAEQs = myvar[1]\n",
    "    life_metric_file_path = \"End to End Framework/All metrics/\" + dataset_name + '/' + model_name + \"/life_ae.pkl\"\n",
    "    with open(life_metric_file_path, 'rb') as file:\n",
    "        myvar = pickle.load(file)\n",
    "    AEEoLs = myvar\n",
    "    caps_file_path = \"End to End Framework/All predictions/\" + dataset_name + '/' + model_name + \"/times_caps_caps_pred.pkl\"\n",
    "    with open(caps_file_path, 'rb') as file:\n",
    "        myvar = pickle.load(file)\n",
    "    time_all, caps_all, caps_pred = myvar[0], myvar[1], myvar[2]\n",
    "    return MAEQs, AEEoLs, time_all, caps_all, caps_pred"
   ]
  },
  {
   "cell_type": "code",
   "execution_count": 15,
   "metadata": {
    "collapsed": false,
    "pycharm": {
     "name": "#%%\n"
    }
   },
   "outputs": [],
   "source": [
    "model = \"E2E-ENN-deltaQ\"\n",
    "dataset = \"48 NMC\"\n",
    "MAEQs, AEEoLs, time_all, caps_all, caps_pred_all = load_data_for_cap_pred_plots(model, dataset)\n",
    "max_cycle_life = 2500 if dataset == \"169 LFP\" else 1600\n",
    "min_cap = 0.85 if dataset == \"169 LFP\" else 1.0\n",
    "max_cap = 1.1 if dataset == \"169 LFP\" else 1.9\n",
    "xticks = [0, 500, 1000, 1500, 2000, 2500] if dataset == \"169 LFP\" else [0, 500, 1000, 1500]\n",
    "yticks = [0.8, 0.9, 1.0, 1.1] if dataset == \"169 LFP\" else [1.0, 1.4, 1.8]"
   ]
  },
  {
   "cell_type": "code",
   "execution_count": 16,
   "metadata": {
    "collapsed": false,
    "pycharm": {
     "name": "#%%\n"
    }
   },
   "outputs": [],
   "source": [
    "# second, draw random cells\n",
    "selected_cells_all = []\n",
    "num_selected_cells = 3\n",
    "for data_id in range(len(MAEQs)):\n",
    "    np.random.seed(7)\n",
    "    idx = np.arange(0, MAEQs[data_id].shape[0])\n",
    "    np.random.shuffle(idx)\n",
    "    selected_cells_all.append(idx[0:num_selected_cells])"
   ]
  },
  {
   "cell_type": "code",
   "execution_count": 17,
   "metadata": {
    "collapsed": false,
    "pycharm": {
     "name": "#%%\n"
    }
   },
   "outputs": [
    {
     "data": {
      "text/plain": [
       "[array([ 9,  1, 21]), array([8, 5, 0])]"
      ]
     },
     "execution_count": 17,
     "metadata": {},
     "output_type": "execute_result"
    }
   ],
   "source": [
    "selected_cells_all"
   ]
  },
  {
   "cell_type": "code",
   "execution_count": 18,
   "metadata": {
    "collapsed": false,
    "pycharm": {
     "name": "#%%\n"
    }
   },
   "outputs": [],
   "source": [
    "# select cells based on MAEQ pecentile\n",
    "num_selected_cells = 3\n",
    "selected_cells_all = []\n",
    "q = [0, 50, 100]\n",
    "for MAEQ in MAEQs:\n",
    "    pcens = np.percentile(MAEQ, q)\n",
    "    cells = []\n",
    "    for pcen in pcens:\n",
    "        i_near=abs(MAEQ-pcen).argmin()\n",
    "        cells.append(i_near)\n",
    "    selected_cells_all.append(cells)"
   ]
  },
  {
   "cell_type": "code",
   "execution_count": 19,
   "metadata": {
    "collapsed": false,
    "pycharm": {
     "name": "#%%\n"
    }
   },
   "outputs": [
    {
     "data": {
      "text/plain": [
       "[[5, 27, 21], [1, 0, 3]]"
      ]
     },
     "execution_count": 19,
     "metadata": {},
     "output_type": "execute_result"
    }
   ],
   "source": [
    "selected_cells_all"
   ]
  },
  {
   "cell_type": "markdown",
   "metadata": {
    "collapsed": false,
    "pycharm": {
     "name": "#%% md\n"
    }
   },
   "source": [
    "plt settings"
   ]
  },
  {
   "cell_type": "code",
   "execution_count": 20,
   "metadata": {
    "collapsed": false,
    "pycharm": {
     "name": "#%%\n"
    }
   },
   "outputs": [],
   "source": [
    "fontSize = 9\n",
    "plt.rcParams['font.family'] = 'serif'\n",
    "plt.rcParams['font.serif'] = ['Times New Roman'] + plt.rcParams['font.serif']\n",
    "plt.rcParams['mathtext.fontset'] = 'cm'\n",
    "rcParams['mathtext.rm'] = 'Arial'\n",
    "plt.rcParams[\"legend.loc\"] = 'lower left'\n",
    "fontdict = {'fontsize': fontSize,\n",
    " 'horizontalalignment': 'left'}\n",
    "rcParams['figure.autolayout'] = True\n",
    "rcParams['lines.markersize'] = 5\n",
    "rcParams['lines.linewidth'] = 1.0\n",
    "rcParams['font.size'] = fontSize\n",
    "rcParams['legend.fontsize'] = fontSize\n",
    "rcParams['legend.frameon'] = False\n",
    "rcParams['xtick.minor.visible'] = True\n",
    "rcParams['ytick.minor.visible'] = True\n",
    "# rcParams['font.serif'] = ['Times New Roman'] + plt.rcParams['font.serif']\n",
    "plt.rcParams[\"legend.loc\"] = 'lower left'\n",
    "\n",
    "rcParams['pdf.fonttype'] = 42\n",
    "\n",
    "rcParams['ps.fonttype'] = 42\n",
    "sz = 15"
   ]
  },
  {
   "cell_type": "code",
   "execution_count": 21,
   "metadata": {
    "collapsed": false,
    "pycharm": {
     "name": "#%%\n"
    }
   },
   "outputs": [
    {
     "data": {
      "image/png": "[encoded data removed]",
      "text/plain": [
       "<Figure size 690x320 with 6 Axes>"
      ]
     },
     "metadata": {},
     "output_type": "display_data"
    }
   ],
   "source": [
    "ncol = 3\n",
    "nrow = len(caps_all)\n",
    "width_subplot = 2.3\n",
    "height_subplot = 1.6\n",
    "fig, axs = plt.subplots(nrows=nrow, ncols=ncol, figsize=(width_subplot * ncol, height_subplot * nrow))\n",
    "# colors = ['tab:blue', 'tab:red', 'yellow']\n",
    "colors = ['#A2142F', '#0072BD', '#EDB120', '#7E2F8E', '#77AC30']\n",
    "# first plot the histograms\n",
    "for data_id, (MAEQ, MAEEOL) in enumerate(zip(MAEQs, AEEoLs)):\n",
    "    axs[data_id][1].hist(MAEQ, bins=10, color=\"gray\", alpha=0.6, edgecolor='white', linewidth=1)\n",
    "    axs[data_id][2].hist(MAEEOL, bins=10, color=\"gray\", alpha=0.6, edgecolor='white', linewidth=1)\n",
    "    for idx, cell in enumerate(selected_cells_all[data_id]):\n",
    "        axs[data_id][1].axvline(x=MAEQ[cell], color = colors[idx], linestyle=\"-\", linewidth=2, alpha=0.5)\n",
    "        axs[data_id][2].axvline(x=MAEEOL[cell], color = colors[idx], linestyle=\"-\", linewidth=2, alpha=0.5)\n",
    "\n",
    "    # axs[data_id][1].set_xlim([0, 1])\n",
    "    # axs[data_id][2].set_xlim([0, 10])\n",
    "    # axs[data_id][1].set_ylim([0, 1])\n",
    "    # axs[data_id][2].set_ylim([0, 10])\n",
    "    axs[data_id][1].tick_params(axis='both', labelsize=fontSize)\n",
    "    axs[data_id][2].tick_params(axis='both', labelsize=fontSize)\n",
    "    axs[data_id][1].set_ylabel('Number of cells', fontsize=fontSize)\n",
    "    axs[data_id][2].set_ylabel('Number of cells', fontsize=fontSize)\n",
    "axs[data_id][1].set_xlabel('Cell $\\mathrm{MAE}_Q$', fontsize=fontSize)\n",
    "axs[data_id][2].set_xlabel('Cell $\\mathrm{AbsError}_{\\mathrm{EoL}}$', fontsize=fontSize)\n",
    "\n",
    "# second, plot capacity trajectories\n",
    "for data_id, (time_cells, caps_cells, caps_pred_cells) in enumerate(zip(time_all, caps_all, caps_pred_all)):\n",
    "    axs[data_id][0].set_xlim([0, max_cycle_life])\n",
    "    axs[data_id][0].set_ylim([min_cap, max_cap])\n",
    "    axs[data_id][0].axvline(x=100, color = 'k', linestyle=\"-.\", linewidth=0.5)\n",
    "    axs[data_id][0].set_ylabel('Discharge capacity (Ah)', fontsize=fontSize)\n",
    "    axs[data_id][0].tick_params(axis='both', labelsize=fontSize)\n",
    "    axs[data_id][0].set_xticks(xticks)\n",
    "    axs[data_id][0].set_yticks(yticks)\n",
    "    # axs[data_id][0].grid()\n",
    "    for idx, cell in enumerate(selected_cells_all[data_id]):\n",
    "        axs[data_id][0].plot(time_cells[cell, :], caps_cells[cell, :], color = colors[idx], linestyle=':', linewidth=1.5)\n",
    "        axs[data_id][0].plot(time_cells[cell, :], caps_pred_cells[cell, :], color = colors[idx],\n",
    "                             linestyle='-', linewidth=2, alpha=0.5)\n",
    "axs[data_id][0].set_xlabel('Cycle number', fontsize=fontSize)\n",
    "axs[data_id][0].plot(0, 0, color = \"black\", linewidth=1.5, linestyle=':', label=\"Observed\")\n",
    "axs[data_id][0].plot(0, 0, color = \"black\", linestyle='-', linewidth=2, alpha=0.5, label=\"Predicted\")\n",
    "axs[data_id][0].legend(loc=\"upper right\")\n",
    "# axs[data_id][0].legend()\n",
    "\n",
    "# Set frame color\n",
    "# axs.spines['bottom'].set_color('k')\n",
    "# axs.spines['left'].set_color('k')\n",
    "# axs.spines['top'].set_color('gray')\n",
    "# axs.spines['right'].set_color('gray')\n",
    "fig.tight_layout(rect=[0, 0.01, 1, 0.99])\n",
    "plt.show()"
   ]
  },
  {
   "cell_type": "code",
   "execution_count": null,
   "metadata": {
    "collapsed": false,
    "pycharm": {
     "name": "#%%\n"
    }
   },
   "outputs": [],
   "source": [
    "fig.savefig('predicted_capacity_trajectories-' + model + '-' + dataset + '.png', dpi=1000, bbox_inches='tight')"
   ]
  },
  {
   "cell_type": "code",
   "execution_count": null,
   "metadata": {
    "collapsed": false,
    "pycharm": {
     "name": "#%%\n"
    }
   },
   "outputs": [],
   "source": []
  }
 ],
 "metadata": {
  "kernelspec": {
   "display_name": "Python 3",
   "language": "python",
   "name": "python3"
  },
  "language_info": {
   "codemirror_mode": {
    "name": "ipython",
    "version": 2
   },
   "file_extension": ".py",
   "mimetype": "text/x-python",
   "name": "python",
   "nbconvert_exporter": "python",
   "pygments_lexer": "ipython2",
   "version": "2.7.6"
  }
 },
 "nbformat": 4,
 "nbformat_minor": 0
}
