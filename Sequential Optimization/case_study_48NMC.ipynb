{
 "cells": [
  {
   "cell_type": "markdown",
   "metadata": {
    "collapsed": false,
    "pycharm": {
     "name": "#%% md\n"
    }
   },
   "source": [
    "### Discharge features"
   ]
  },
  {
   "cell_type": "code",
   "execution_count": 9,
   "metadata": {
    "collapsed": false,
    "pycharm": {
     "name": "#%%\n"
    }
   },
   "outputs": [],
   "source": [
    "results = [('trail #0', 20.226250648498535, 0.12466573715209961, [0.1059403261488048, 0.11723685042814216], [0.05359404755216632, 0.05579303064672311], [4.013046451987765, 4.2281197828420405], [120.93222620450038, 112.9199622349988], [103.9087143082314, 92.74713732622895], [9.361840496597788, 8.052598020725858]), ('trail #2', 19.741384267807007, 0.15657901763916016, [0.11068604637032758, 0.11888514329847846], [0.0553957481678353, 0.05640351830780429], [4.154986767059719, 4.274890909097515], [119.60078454705524, 109.78419170445267], [101.79816631614662, 87.22682758695524], [9.131225304745021, 7.5297151758422745]), ('trail #1', 20.248279571533203, 0.1502971649169922, [0.10874554042809025, 0.11720290534255536], [0.05466207495970034, 0.05572465325791458], [4.096625478277296, 4.222657616367617], [120.26422217143484, 110.3945883490951], [102.55253099299269, 89.89980711521828], [9.220969833621997, 7.782363625432154]), ('trail #4', 19.63313126564026, 0.17183589935302734, [0.1057741214468299, 0.11415660018391419], [0.053351077970617944, 0.054483239400022324], [3.996129320592191, 4.127034014935855], [121.31374197762288, 111.17680443757186], [103.4116731399267, 92.49333454937376], [9.322549762017443, 8.029283295169568]), ('trail #3', 20.086151599884033, 0.18745160102844238, [0.10158961987870622, 0.11430368554850175], [0.051771317391960725, 0.05473466610240523], [3.871894637236401, 4.144044867637519], [122.39848360579903, 113.57138749001241], [104.6958621897553, 94.47156433667513], [9.461672741411292, 8.217846560139334]), ('trail #5', 20.070528030395508, 0.10936546325683594, [0.1064645285723851, 0.1176449215663655], [0.05375595341752718, 0.056014460760261446], [4.025877386571784, 4.244224117029056], [120.83162446193056, 111.47492523000231], [103.03164792840279, 90.33856195291852], [9.272016847497978, 7.823123805844122]), ('trail #6', 20.023662090301514, 0.09589695930480957, [0.10630368103356284, 0.11811629135902738], [0.05373731799791926, 0.05624031820379583], [4.023864599326502, 4.261691250980137], [120.97561556158531, 112.54223389340831], [103.47811036708282, 91.72173721654542], [9.313337523465751, 7.950561403797105]), ('trail #8', 19.607473134994507, 0.0923624038696289, [0.10345595062955165, 0.11969618211692346], [0.05250852789566213, 0.05690538470433154], [3.930055356238565, 4.314883737225077], [122.86157379045765, 115.74762716510784], [104.95751206742467, 94.73040617078864], [9.46990815258866, 8.232342951393303]), ('trail #7', 20.21670961380005, 0.09367156028747559, [0.10359699685974566, 0.11919213376764368], [0.05250483140232203, 0.05666962375275257], [3.929866248190107, 4.295927554329858], [121.3837513008409, 113.3956403601403], [103.27031144436435, 91.29040465014552], [9.311331648624238, 7.917366810655636]), ('trail #9', 19.466830492019653, 0.08291101455688477, [0.10088486607830424, 0.11425113529569483], [0.05158725344183079, 0.05479833789598162], [3.855102231559339, 4.148815703496556], [123.57652342669945, 114.77027956541475], [105.38660367464873, 97.20358997500207], [9.536215335235127, 8.468408382572088])]"
   ]
  },
  {
   "cell_type": "code",
   "execution_count": 10,
   "metadata": {
    "collapsed": false,
    "pycharm": {
     "name": "#%%\n"
    }
   },
   "outputs": [
    {
     "name": "stdout",
     "output_type": "stream",
     "text": [
      "training time, median:20.04709506034851, std: 0.27683707562331883\n",
      "eval time, median: 0.11701560020446777, std: 0.03552193436116505\n",
      "cap_rmse, median:[0.10585722 0.11744089], std: [0.00288827 0.00200629]\n",
      "cap_mae, median: [0.05347256 0.05590375], std: [0.00115165 0.00080341]\n",
      "cap_mape, median: [4.00458789 4.23617195], std: [0.08997077 0.06266574]\n",
      "life_rmse, median: [121.14467877 112.73109806], std: [1.14565873 1.79941578]\n",
      "life_mae, median: [103.44489175  92.10753588], std: [1.05511742 2.67445577]\n",
      "life_mape, median: [9.31794364 7.98992235], std: [0.11613431 0.25170629]\n"
     ]
    }
   ],
   "source": [
    "import numpy as np\n",
    "num_trials = len(results)\n",
    "num_datasets = 2\n",
    "training_time, eval_time = np.full(num_trials, np.nan), np.full(num_trials, np.nan)\n",
    "cap_rmse, cap_mae, cap_mape = np.full((num_trials, num_datasets), np.nan), \\\n",
    "                              np.full((num_trials, num_datasets), np.nan), \\\n",
    "                              np.full((num_trials, num_datasets), np.nan)\n",
    "life_rmse, life_mae, life_mape = np.full((num_trials, num_datasets), np.nan), \\\n",
    "                                 np.full((num_trials, num_datasets), np.nan), \\\n",
    "                                 np.full((num_trials, num_datasets), np.nan)\n",
    "\n",
    "for idx, trail in enumerate(results):\n",
    "    training_time[idx], eval_time[idx] = trail[1], trail[2]\n",
    "    cap_rmse[idx, :] = np.array(trail[3])\n",
    "    cap_mae[idx, :] = np.array(trail[4])\n",
    "    cap_mape[idx, :] = np.array(trail[5])\n",
    "    life_rmse[idx, :] = np.array(trail[6])\n",
    "    life_mae[idx, :] = np.array(trail[7])\n",
    "    life_mape[idx, :] = np.array(trail[8])\n",
    "\n",
    "print(f\"training time, median:{np.median(training_time)}, std: {training_time.std()}\")\n",
    "print(f\"eval time, median: {np.median(eval_time)}, std: {eval_time.std()}\")\n",
    "print(f\"cap_rmse, median:{np.median(cap_rmse, axis=0)}, std: {cap_rmse.std(axis=0)}\")\n",
    "print(f\"cap_mae, median: {np.median(cap_mae, axis=0)}, std: {cap_mae.std(axis=0)}\")\n",
    "print(f\"cap_mape, median: {np.median(cap_mape, axis=0)}, std: {cap_mape.std(axis=0)}\")\n",
    "print(f\"life_rmse, median: {np.median(life_rmse, axis=0)}, std: {life_rmse.std(axis=0)}\")\n",
    "print(f\"life_mae, median: {np.median(life_mae, axis=0)}, std: {life_mae.std(axis=0)}\")\n",
    "print(f\"life_mape, median: {np.median(life_mape, axis=0)}, std: {life_mape.std(axis=0)}\")"
   ]
  },
  {
   "cell_type": "markdown",
   "metadata": {
    "collapsed": false,
    "pycharm": {
     "name": "#%% md\n"
    }
   },
   "source": [
    "### Delta QV curve"
   ]
  },
  {
   "cell_type": "code",
   "execution_count": 5,
   "metadata": {
    "collapsed": false,
    "pycharm": {
     "name": "#%%\n"
    }
   },
   "outputs": [],
   "source": [
    "results = [('trail #0', 31.179550170898438, 0.6245150566101074, [0.15642287709406713, 0.1929318003520246], [0.07403036210443939, 0.08740220751157864], [5.625752652033436, 6.704474156560022], [130.0294128335852, 135.15073434987212], [111.18433125670816, 114.6540679483567], [9.809655830311824, 9.76512519039444]), ('trail #1', 31.179561138153076, 0.6741766929626465, [0.1559675348598189, 0.1817250551054054], [0.07390830890504788, 0.0829206482347964], [5.61504520056973, 6.351094760162002], [130.508472078949, 132.63889269320515], [111.8969743179051, 111.81442828861377], [9.882865709569336, 9.534455168104111]), ('trail #5', 31.974478721618652, 0.4411139488220215, [0.15728277661568338, 0.19646651396415954], [0.07440895760683908, 0.08883835245041427], [5.654508757131527, 6.81716281109427], [130.0573280182981, 135.60043408569098], [111.19469640260303, 115.07488292926743], [9.813173039818075, 9.799153800234846]), ('trail #3', 32.39506530761719, 0.46026182174682617, [0.15282346623202625, 0.18621164789630942], [0.07252385595792897, 0.08484898941782987], [5.508361750761534, 6.500887333072283], [130.0569086416596, 134.2542035877555], [111.34912361590281, 113.72782771946163], [9.846728271074136, 9.690991941893861]), ('trail #4', 32.72692131996155, 0.219865083694458, [0.16294486856672769, 0.18948813469843748], [0.07663846580717724, 0.08616491215837432], [5.831288060282815, 6.6056320660302275], [132.00743631401724, 135.1657558273775], [112.67388656928345, 114.69805803966406], [9.934519065391518, 9.771468349184381]), ('trail #6', 32.65423631668091, 0.27756714820861816, [0.1580578861906495, 0.1937698674942614], [0.07477294128954244, 0.08776055794014406], [5.682395588198402, 6.732672626402719], [131.06393105093346, 135.9733751159629], [112.1399261778189, 115.42732736099795], [9.898763945414087, 9.838855674290611]), ('trail #8', 32.51403570175171, 0.3082571029663086, [0.1590258333014103, 0.19253321255796796], [0.07514765254856536, 0.08734467815391884], [5.712302298193507, 6.698745003290667], [131.38889097501118, 135.66068127427704], [112.26654175357548, 114.90764580793491], [9.908237138667326, 9.78951371107345]), ('trail #2', 32.844156980514526, 0.32801389694213867, [0.16253307758120017, 0.19470607826506453], [0.07639389491318037, 0.0881154885553259], [5.81316533816573, 6.761692999537259], [130.09883287517886, 134.7909722790634], [111.03081561421612, 114.07403491715188], [9.776561220797875, 9.706753109618674]), ('trail #7', 33.14867353439331, 0.37407398223876953, [0.15935180990410533, 0.19082429568838866], [0.0750494707892799, 0.08660110715090424], [5.708542917008601, 6.641508796665196], [128.8086708793832, 133.51999165485663], [110.0379955076119, 113.64131826657305], [9.693162011570138, 9.670140579500988]), ('trail #9', 32.89090609550476, 0.19210314750671387, [0.1565912060640797, 0.1904754917401305], [0.07420196883805383, 0.08647643785217818], [5.636899943478852, 6.63072624500336], [130.76796501625282, 135.37647117745607], [111.87619626201524, 114.96692694716128], [9.879770110964401, 9.800672670115654])]\n"
   ]
  },
  {
   "cell_type": "code",
   "execution_count": 6,
   "metadata": {
    "collapsed": false,
    "pycharm": {
     "name": "#%%\n"
    }
   },
   "outputs": [
    {
     "name": "stdout",
     "output_type": "stream",
     "text": [
      "training time, median:32.58413600921631, std: 0.6571992361483084\n",
      "eval time, median: 0.3510439395904541, std: 0.153241991651191\n",
      "cap_rmse, median:[0.15767033 0.19167875], std: [0.00289305 0.00410904]\n",
      "cap_mae, median: [0.07459095 0.08697289], std: [0.00114445 0.00163211]\n",
      "cap_mape, median: [5.66845217 6.6701269 ], std: [0.09033282 0.12895002]\n",
      "life_rmse, median: [130.30365248 135.15824509], std: [0.84161487 0.99761911]\n",
      "life_mae, median: [111.61265994 114.67606299], std: [0.72146463 0.99797301]\n",
      "life_mape, median: [9.86324919 9.76829677], std: [0.06895319 0.08458963]\n"
     ]
    }
   ],
   "source": [
    "import numpy as np\n",
    "num_trials = len(results)\n",
    "num_datasets = 2\n",
    "training_time, eval_time = np.full(num_trials, np.nan), np.full(num_trials, np.nan)\n",
    "cap_rmse, cap_mae, cap_mape = np.full((num_trials, num_datasets), np.nan), \\\n",
    "                              np.full((num_trials, num_datasets), np.nan), \\\n",
    "                              np.full((num_trials, num_datasets), np.nan)\n",
    "life_rmse, life_mae, life_mape = np.full((num_trials, num_datasets), np.nan), \\\n",
    "                                 np.full((num_trials, num_datasets), np.nan), \\\n",
    "                                 np.full((num_trials, num_datasets), np.nan)\n",
    "\n",
    "for idx, trail in enumerate(results):\n",
    "    training_time[idx], eval_time[idx] = trail[1], trail[2]\n",
    "    cap_rmse[idx, :] = np.array(trail[3])\n",
    "    cap_mae[idx, :] = np.array(trail[4])\n",
    "    cap_mape[idx, :] = np.array(trail[5])\n",
    "    life_rmse[idx, :] = np.array(trail[6])\n",
    "    life_mae[idx, :] = np.array(trail[7])\n",
    "    life_mape[idx, :] = np.array(trail[8])\n",
    "\n",
    "print(f\"training time, median:{np.median(training_time)}, std: {training_time.std()}\")\n",
    "print(f\"eval time, median: {np.median(eval_time)}, std: {eval_time.std()}\")\n",
    "print(f\"cap_rmse, median:{np.median(cap_rmse, axis=0)}, std: {cap_rmse.std(axis=0)}\")\n",
    "print(f\"cap_mae, median: {np.median(cap_mae, axis=0)}, std: {cap_mae.std(axis=0)}\")\n",
    "print(f\"cap_mape, median: {np.median(cap_mape, axis=0)}, std: {cap_mape.std(axis=0)}\")\n",
    "print(f\"life_rmse, median: {np.median(life_rmse, axis=0)}, std: {life_rmse.std(axis=0)}\")\n",
    "print(f\"life_mae, median: {np.median(life_mae, axis=0)}, std: {life_mae.std(axis=0)}\")\n",
    "print(f\"life_mape, median: {np.median(life_mape, axis=0)}, std: {life_mape.std(axis=0)}\")"
   ]
  },
  {
   "cell_type": "code",
   "execution_count": 7,
   "metadata": {
    "collapsed": false,
    "pycharm": {
     "name": "#%%\n"
    }
   },
   "outputs": [
    {
     "data": {
      "text/plain": [
       "10"
      ]
     },
     "execution_count": 7,
     "metadata": {},
     "output_type": "execute_result"
    }
   ],
   "source": [
    "len(results)"
   ]
  },
  {
   "cell_type": "markdown",
   "metadata": {
    "collapsed": false,
    "pycharm": {
     "name": "#%% md\n"
    }
   },
   "source": [
    "### find median plots"
   ]
  },
  {
   "cell_type": "code",
   "execution_count": 21,
   "metadata": {
    "collapsed": false,
    "pycharm": {
     "name": "#%%\n"
    }
   },
   "outputs": [],
   "source": [
    "results = [('trail #1', 11.343730449676514, 0.07661104202270508, [0.10232595162432624, 0.11617221112904641], [0.05184896791739426, 0.055303379526816486], [3.881785297192824, 4.191472642521616], [120.65202040343004, 112.34069491085059], [103.06884109376968, 91.37398704536727], [9.296673598447134, 7.931117100237936]), ('trail #0', 11.431676387786865, 0.08970904350280762, [0.10814764234736284, 0.11585191939547165], [0.05444726272444242, 0.05521678786334929], [4.079835177462462, 4.182339252788329], [120.62689093570027, 111.19225905569104], [103.1897065362495, 91.15569066941248], [9.28181894521039, 7.89962172124436]), ('trail #3', 11.441744804382324, 0.1765289306640625, [0.10334276181691812, 0.11387944083866222], [0.05244474036173865, 0.054550591959450355], [3.924248967029894, 4.130164841978838], [122.37572731799888, 112.62140749653149], [104.304480468578, 93.94821962111288], [9.412919285751451, 8.16310113754867]), ('trail #2', 11.646198034286499, 0.1186833381652832, [0.10573376937632104, 0.11621299021412441], [0.053425611217406625, 0.05540115876929547], [4.001410405218938, 4.196779554389055], [120.7227244621667, 111.83212567121763], [103.42828100103625, 91.29577038733207], [9.311160337269637, 7.914479597125404]), ('trail #5', 11.514917850494385, 0.10272717475891113, [0.10424768912806345, 0.11556923255519487], [0.052907741909443445, 0.0552542429481706], [3.9590598686267837, 4.1850105756749425], [123.01924143843382, 113.96446930967632], [105.05829160516112, 95.32771965657733], [9.48062611360385, 8.28750655290361]), ('trail #7', 11.276939153671265, 0.12666058540344238, [0.10596775267603276, 0.11732812021425458], [0.05350055423056909, 0.05579450955071654], [4.007311169309222, 4.2281831560877565], [119.94176620291104, 111.27190713973691], [102.62723469556481, 90.06665953002792], [9.235362483370753, 7.801854117093796]), ('trail #6', 11.524913549423218, 0.09873533248901367, [0.10429641088241486, 0.11465120194178832], [0.05273465818055359, 0.05472879158498392], [3.94943906666018, 4.145740634865967], [121.47192408041046, 112.19907104501851], [103.92416393896053, 92.47704382160225], [9.363487247091074, 8.025371949377764]), ('trail #4', 11.695433616638184, 0.12367773056030273, [0.10395735426544161, 0.11529878643702003], [0.052791658267024796, 0.05519009263776633], [3.9496160775728906, 4.179331026231999], [123.0235561325717, 113.37695533585114], [104.77809036983861, 94.64715951486669], [9.455275906991544, 8.223507738187564]), ('trail #8', 11.622379302978516, 0.09175705909729004, [0.10374221349602919, 0.11806815606125198], [0.052625572511107756, 0.05621491805663468], [3.9382081507963607, 4.259413555130377], [120.7911084502447, 112.57656955022986], [102.91707183667208, 90.53528745237804], [9.274721442618597, 7.847844577764898]), ('trail #9', 11.48511815071106, 0.08577132225036621, [0.10481510474807756, 0.11517278225798237], [0.053215552471921834, 0.055071720339004045], [3.9814660856727455, 4.169198269145128], [120.52687034274255, 111.96249028242934], [103.24802165911188, 92.46386558473094], [9.29967245224121, 8.023252772163046])]"
   ]
  },
  {
   "cell_type": "code",
   "execution_count": 23,
   "metadata": {
    "collapsed": false,
    "pycharm": {
     "name": "#%%\n"
    }
   },
   "outputs": [
    {
     "name": "stdout",
     "output_type": "stream",
     "text": [
      "training time, median:11.500018000602722, std: 0.12562600274943725\n",
      "eval time, median: 0.1007312536239624, std: 0.027539007163458928\n",
      "cap_rmse, median:[0.10427205 0.11571058], std: [0.00154506 0.00116161]\n",
      "cap_mae, median: [0.0528497  0.05523552], std: [0.00066844 0.00045227]\n",
      "cap_mape, median: [3.95433797 4.18367491], std: [0.05132382 0.03519776]\n",
      "life_rmse, median: [120.75691646 112.26988298], std: [1.04969416 0.82020669]\n",
      "life_mae, median: [103.33815133  91.91892632], std: [0.78120309 1.69469814]\n",
      "life_mape, median: [9.30541639 7.97718494], std: [0.07864473 0.15606578]\n"
     ]
    }
   ],
   "source": [
    "import numpy as np\n",
    "num_trials = len(results)\n",
    "num_datasets = 2\n",
    "training_time, eval_time = np.full(num_trials, np.nan), np.full(num_trials, np.nan)\n",
    "cap_rmse, cap_mae, cap_mape = np.full((num_trials, num_datasets), np.nan), \\\n",
    "                              np.full((num_trials, num_datasets), np.nan), \\\n",
    "                              np.full((num_trials, num_datasets), np.nan)\n",
    "life_rmse, life_mae, life_mape = np.full((num_trials, num_datasets), np.nan), \\\n",
    "                                 np.full((num_trials, num_datasets), np.nan), \\\n",
    "                                 np.full((num_trials, num_datasets), np.nan)\n",
    "trail_idxs = np.full(num_trials, np.nan)\n",
    "for idx, trail in enumerate(results):\n",
    "    trail_idxs[idx] = int(trail[0].split(\"#\")[-1])\n",
    "    training_time[idx], eval_time[idx] = trail[1], trail[2]\n",
    "    cap_rmse[idx, :] = np.array(trail[3])\n",
    "    cap_mae[idx, :] = np.array(trail[4])\n",
    "    cap_mape[idx, :] = np.array(trail[5])\n",
    "    life_rmse[idx, :] = np.array(trail[6])\n",
    "    life_mae[idx, :] = np.array(trail[7])\n",
    "    life_mape[idx, :] = np.array(trail[8])\n",
    "\n",
    "print(f\"training time, median:{np.median(training_time)}, std: {training_time.std()}\")\n",
    "print(f\"eval time, median: {np.median(eval_time)}, std: {eval_time.std()}\")\n",
    "print(f\"cap_rmse, median:{np.median(cap_rmse, axis=0)}, std: {cap_rmse.std(axis=0)}\")\n",
    "print(f\"cap_mae, median: {np.median(cap_mae, axis=0)}, std: {cap_mae.std(axis=0)}\")\n",
    "print(f\"cap_mape, median: {np.median(cap_mape, axis=0)}, std: {cap_mape.std(axis=0)}\")\n",
    "print(f\"life_rmse, median: {np.median(life_rmse, axis=0)}, std: {life_rmse.std(axis=0)}\")\n",
    "print(f\"life_mae, median: {np.median(life_mae, axis=0)}, std: {life_mae.std(axis=0)}\")\n",
    "print(f\"life_mape, median: {np.median(life_mape, axis=0)}, std: {life_mape.std(axis=0)}\")"
   ]
  },
  {
   "cell_type": "code",
   "execution_count": 24,
   "metadata": {
    "collapsed": false,
    "pycharm": {
     "name": "#%%\n"
    }
   },
   "outputs": [
    {
     "data": {
      "text/plain": [
       "array([1., 0., 3., 2., 5., 7., 6., 4., 8., 9.])"
      ]
     },
     "execution_count": 24,
     "metadata": {},
     "output_type": "execute_result"
    }
   ],
   "source": [
    "trail_idxs"
   ]
  },
  {
   "cell_type": "code",
   "execution_count": 25,
   "metadata": {
    "collapsed": false,
    "pycharm": {
     "name": "#%%\n"
    }
   },
   "outputs": [],
   "source": [
    "cap_mae_all_data = cap_mae.mean(axis=1)\n",
    "life_mape_all_data = life_mape.mean(axis=1)"
   ]
  },
  {
   "cell_type": "code",
   "execution_count": 26,
   "metadata": {
    "collapsed": false,
    "pycharm": {
     "name": "#%%\n"
    }
   },
   "outputs": [
    {
     "data": {
      "text/plain": [
       "9"
      ]
     },
     "execution_count": 26,
     "metadata": {},
     "output_type": "execute_result"
    }
   ],
   "source": [
    "np.argsort(life_mape_all_data)[len(life_mape_all_data)//2]"
   ]
  },
  {
   "cell_type": "code",
   "execution_count": 27,
   "metadata": {
    "collapsed": false,
    "pycharm": {
     "name": "#%%\n"
    }
   },
   "outputs": [
    {
     "data": {
      "text/plain": [
       "array([0.05357617, 0.05483203, 0.05349767, 0.05441338, 0.05408099,\n",
       "       0.05464753, 0.05373172, 0.05399088, 0.05442025, 0.05414364])"
      ]
     },
     "execution_count": 27,
     "metadata": {},
     "output_type": "execute_result"
    }
   ],
   "source": [
    "cap_mae_all_data"
   ]
  },
  {
   "cell_type": "code",
   "execution_count": 20,
   "metadata": {
    "collapsed": false,
    "pycharm": {
     "name": "#%%\n"
    }
   },
   "outputs": [
    {
     "data": {
      "text/plain": [
       "array([9.71486544, 9.86323053, 9.79735207, 9.9751686 , 9.9362103 ,\n",
       "       9.81493156, 9.86473241, 9.7686933 , 9.83476956, 9.94052017])"
      ]
     },
     "execution_count": 20,
     "metadata": {},
     "output_type": "execute_result"
    }
   ],
   "source": [
    "life_mape_all_data"
   ]
  },
  {
   "cell_type": "code",
   "execution_count": null,
   "metadata": {
    "collapsed": false,
    "pycharm": {
     "name": "#%%\n"
    }
   },
   "outputs": [],
   "source": []
  }
 ],
 "metadata": {
  "kernelspec": {
   "display_name": "Python 3.8.6 ('env': venv)",
   "language": "python",
   "name": "python3"
  },
  "language_info": {
   "codemirror_mode": {
    "name": "ipython",
    "version": 3
   },
   "file_extension": ".py",
   "mimetype": "text/x-python",
   "name": "python",
   "nbconvert_exporter": "python",
   "pygments_lexer": "ipython3",
   "version": "3.8.6"
  },
  "vscode": {
   "interpreter": {
    "hash": "bdb72e4b94bb2a3e5a66f79ca47c534b306d2aa6ce3c21c4ffceb6a0e72b4479"
   }
  }
 },
 "nbformat": 4,
 "nbformat_minor": 0
}
