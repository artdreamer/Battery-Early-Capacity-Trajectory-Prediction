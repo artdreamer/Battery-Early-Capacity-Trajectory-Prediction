{
 "cells": [
  {
   "cell_type": "markdown",
   "metadata": {
    "colab_type": "text",
    "id": "view-in-github",
    "pycharm": {
     "name": "#%% md\n"
    }
   },
   "source": [
    "<a href=\"https://colab.research.google.com/github/artdreamer/battery_early_capacity_trajectory_prediction/blob/main/End%20to%20End%20Framework/case_study_48_NMC.ipynb\" target=\"_parent\"><img src=\"https://colab.research.google.com/assets/colab-badge.svg\" alt=\"Open In Colab\"/></a>"
   ]
  },
  {
   "cell_type": "markdown",
   "metadata": {
    "id": "w6ozn3aglpnp",
    "pycharm": {
     "name": "#%% md\n"
    }
   },
   "source": [
    "### Results\n",
    "Run the end-to-end model 10 times on the dateaset with 48 NMC cells using local cpu device `Intel Core(TM) i5-10310U`, results are summarizes below\n",
    "(`trial index`, `training time`, `test time`, [ `cap RMSE`,   `cap MAE`,  `cap MAPE`, `life RMSE`, `life MAE`, `life MAPE`])\n"
   ]
  },
  {
   "cell_type": "markdown",
   "metadata": {
    "id": "G_Yzcyd5Zpzl",
    "pycharm": {
     "name": "#%% md\n"
    }
   },
   "source": [
    "### Reuslt summary\n",
    "\n"
   ]
  },
  {
   "cell_type": "markdown",
   "metadata": {
    "id": "nXtvibFXYTaC",
    "pycharm": {
     "name": "#%% md\n"
    }
   },
   "source": [
    "#### Discharge features"
   ]
  },
  {
   "cell_type": "code",
   "execution_count": 7,
   "metadata": {
    "id": "LjUpnLTf8x4n",
    "pycharm": {
     "name": "#%%\n"
    }
   },
   "outputs": [],
   "source": [
    "results = [('trail #6', 47.7172577381134, 0.16504883766174316, [0.05093318903956199, 0.04522346255894187], [0.030791814208601432, 0.027086376470378974], [2.217094892366327, 1.9468012502538317], [105.08592676145936, 84.78935614336055], [85.06070631296545, 65.91448287048406], [7.590833836464056, 5.579262325311294]), ('trail #7', 53.169275522232056, 0.49497365951538086, [0.05047092335887302, 0.04543923087242728], [0.030309320008765385, 0.026515524426138443], [2.1840629581093913, 1.9147050411980657], [105.35288738762723, 81.43263872208189], [85.33977127322868, 62.09490579222927], [7.6719128301768285, 5.289753655867341]), ('trail #0', 55.89850831031799, 0.4501163959503174, [0.05040387756597289, 0.04536425340177826], [0.030215040014000997, 0.026489031054927413], [2.1780842200826536, 1.9121395278422029], [104.94945006084045, 81.42545596366148], [85.16373006017011, 62.62472328883143], [7.655966569124373, 5.3388354622034315]), ('trail #5', 57.06184387207031, 0.3590400218963623, [0.05048852863512356, 0.044857764917642186], [0.03040418707236093, 0.026430583151415908], [2.1893002029301316, 1.9045739066590879], [105.24379661830645, 81.64930114940175], [84.92546722263675, 62.66199952390609], [7.6078389328886855, 5.322204254971248]), ('trail #3', 57.84911513328552, 0.10934877395629883, [0.050530356302933226, 0.04535552184754882], [0.030405088793541205, 0.026577326487973885], [2.1896920676089726, 1.9174704743437865], [104.96189280545684, 81.83332495222214], [85.10074135569637, 62.75761604315244], [7.6285626063197265, 5.33597412882035]), ('trail #9', 59.2651424407959, 0.08976006507873535, [0.0504051711720061, 0.044718561894117326], [0.03026584479789653, 0.026376913818639658], [2.1809088737138462, 1.900337543578808], [105.09322127838453, 81.6646316865661], [85.03690266161168, 63.62310847570141], [7.639836868228079, 5.419362712323465]), ('trail #4', 60.482115507125854, 0.06881403923034668, [0.050426327658487986, 0.04549501293729942], [0.03021951828345541, 0.02655515182336535], [2.1779838181708944, 1.917130104673466], [104.77065742190533, 81.60848486882063], [85.15452421896582, 63.40956677273916], [7.653569794972569, 5.408841152573605]), ('trail #2', 61.55987524986267, 0.06682229042053223, [0.050549090559362346, 0.04574837515340864], [0.03033572309244335, 0.026700745673569493], [2.1859147132779544, 1.9280698227072397], [104.99308596838488, 81.93720005624525], [85.26332213200538, 63.09851246864473], [7.6557687150439975, 5.373766157169348]), ('trail #1', 62.13236355781555, 0.056813955307006836, [0.05044103916017786, 0.04503518330856464], [0.03031362501638786, 0.02655439179859498], [2.18358984198285, 1.9133129479740525], [104.92839760088572, 82.17135081479627], [84.91963629413165, 63.89581088782379], [7.6128517073373105, 5.4335665943250655]), ('trail #8', 63.715776681900024, 0.04682278633117676, [0.050385515165704775, 0.044977845997953486], [0.030245374733009523, 0.02640637922996349], [2.1790310437280036, 1.9040382099507196], [105.18144342341179, 81.5099072787166], [85.11520429757391, 63.102246567217115], [7.643839068094155, 5.373140799617068])]\n"
   ]
  },
  {
   "cell_type": "code",
   "execution_count": 8,
   "metadata": {
    "colab": {
     "base_uri": "https://localhost:8080/"
    },
    "id": "5FvBjzhfgVOI",
    "outputId": "d8660f10-b041-4137-e223-54a6315ac53c",
    "pycharm": {
     "name": "#%%\n"
    }
   },
   "outputs": [
    {
     "name": "stdout",
     "output_type": "stream",
     "text": [
      "training time, median:58.55712878704071, std: 4.521488991279178\n",
      "eval time, median: 0.09955441951751709, std: 0.16568359375398498\n",
      "cap_rmse, median:[0.05045598 0.04528949], std: [0.00015234 0.0003029 ]\n",
      "cap_mae, median: [0.03031147 0.02653496], std: [0.0001605  0.00019423]\n",
      "cap_mape, median: [2.1838264  1.91400899], std: [0.01095071 0.01280776]\n",
      "life_rmse, median: [105.03950636  81.65696642], std: [0.1622642  0.95511688]\n",
      "life_mae, median: [85.10797283 63.10037952], std: [0.12621745 0.99963727]\n",
      "life_mape, median: [7.64183797 5.37345348], std: [0.02426553 0.07720196]\n"
     ]
    }
   ],
   "source": [
    "import numpy as np\n",
    "num_trials = len(results)\n",
    "num_datasets = 2\n",
    "training_time, eval_time = np.full(num_trials, np.nan), np.full(num_trials, np.nan)\n",
    "cap_rmse, cap_mae, cap_mape = np.full((num_trials, num_datasets), np.nan), \\\n",
    "                              np.full((num_trials, num_datasets), np.nan), \\\n",
    "                              np.full((num_trials, num_datasets), np.nan)\n",
    "life_rmse, life_mae, life_mape = np.full((num_trials, num_datasets), np.nan), \\\n",
    "                                 np.full((num_trials, num_datasets), np.nan), \\\n",
    "                                 np.full((num_trials, num_datasets), np.nan)\n",
    "\n",
    "for idx, trail in enumerate(results):\n",
    "    training_time[idx], eval_time[idx] = trail[1], trail[2]\n",
    "    cap_rmse[idx, :] = np.array(trail[3])\n",
    "    cap_mae[idx, :] = np.array(trail[4])\n",
    "    cap_mape[idx, :] = np.array(trail[5])\n",
    "    life_rmse[idx, :] = np.array(trail[6])\n",
    "    life_mae[idx, :] = np.array(trail[7])\n",
    "    life_mape[idx, :] = np.array(trail[8])\n",
    "\n",
    "print(f\"training time, median:{np.median(training_time)}, std: {training_time.std()}\")\n",
    "print(f\"eval time, median: {np.median(eval_time)}, std: {eval_time.std()}\")\n",
    "print(f\"cap_rmse, median:{np.median(cap_rmse, axis=0)}, std: {cap_rmse.std(axis=0)}\")\n",
    "print(f\"cap_mae, median: {np.median(cap_mae, axis=0)}, std: {cap_mae.std(axis=0)}\")\n",
    "print(f\"cap_mape, median: {np.median(cap_mape, axis=0)}, std: {cap_mape.std(axis=0)}\")\n",
    "print(f\"life_rmse, median: {np.median(life_rmse, axis=0)}, std: {life_rmse.std(axis=0)}\")\n",
    "print(f\"life_mae, median: {np.median(life_mae, axis=0)}, std: {life_mae.std(axis=0)}\")\n",
    "print(f\"life_mape, median: {np.median(life_mape, axis=0)}, std: {life_mape.std(axis=0)}\")"
   ]
  },
  {
   "cell_type": "markdown",
   "metadata": {
    "id": "HcLhsWatcsXr",
    "pycharm": {
     "name": "#%% md\n"
    }
   },
   "source": [
    "#### Delta Q cure 100-10"
   ]
  },
  {
   "cell_type": "code",
   "execution_count": 5,
   "metadata": {
    "collapsed": false,
    "pycharm": {
     "name": "#%%\n"
    }
   },
   "outputs": [],
   "source": [
    "results = [('trail #5', 71.5356113910675, 0.17183518409729004, [0.054397594716549647, 0.049768519310798405], [0.03155140423840949, 0.028101491441967597], [2.2960232907478164, 2.0437562183082325], [119.5838254502749, 90.02554961285105], [92.44471388308418, 63.13161611420723], [8.47917396070654, 5.42749638633796]), ('trail #6', 76.74000358581543, 0.15621185302734375, [0.05355866448807025, 0.047178219171784566], [0.03154979788058514, 0.02725554412949242], [2.286466278501446, 1.9698508244413278], [118.63148848096375, 89.84060355659915], [91.2476877858256, 61.360540660181144], [8.311821733417954, 5.2357886688751]), ('trail #2', 83.18355870246887, 0.14059066772460938, [0.05360763817930225, 0.04853648008211974], [0.031276565523189706, 0.02757739872085199], [2.270087947024101, 1.999533067715375], [119.33515963706185, 89.93462736252025], [91.59076531845365, 62.44173575728696], [8.372983728633802, 5.350069666975448]), ('trail #4', 84.49813675880432, 0.1623239517211914, [0.05340583226430623, 0.04772510614949094], [0.031229499431707317, 0.027154775036063575], [2.2653899365358354, 1.968174353891736], [118.28782165637142, 88.26386499705504], [91.23684626790083, 61.51885486956123], [8.335925847768616, 5.270982962236815]), ('trail #1', 87.45008277893066, 0.12497091293334961, [0.05313901404067165, 0.04933998053117482], [0.031052646336049747, 0.02802323229409921], [2.2534515346466892, 2.03302694623163], [117.48111118402186, 90.8378290951898], [90.55169407855924, 61.9163099704396], [8.272572657633196, 5.294366483943028]), ('trail #0', 88.52905750274658, 0.20307636260986328, [0.05290246688229502, 0.04779235968075006], [0.031124410001428536, 0.027522391012430866], [2.255117001704752, 1.9914924667174847], [115.70151162734436, 89.08928283417947], [89.64549291446544, 61.376451706130936], [8.155263048972401, 5.234140853761049]), ('trail #3', 90.79225659370422, 0.10935592651367188, [0.053381972152182725, 0.04797416951037724], [0.03109904105882357, 0.027272245924132944], [2.2565580111920647, 1.9777773617104748], [118.92870079752697, 89.22586224574478], [91.53542434819515, 61.86979039794308], [8.370504022584395, 5.3027339271354945]), ('trail #7', 91.22965288162231, 0.10935044288635254, [0.05340130728953759, 0.04771747175330273], [0.031182602029690247, 0.02718981615119892], [2.2619232751684204, 1.9697170102045831], [119.15350234562388, 88.86681281462357], [91.5108894974802, 61.61370822628999], [8.361537295783556, 5.278099098565945]), ('trail #9', 91.87449169158936, 0.11668777465820312, [0.05342917307742551, 0.04886452238578873], [0.031158442285140815, 0.027821466884394536], [2.2616839661482215, 2.0179256573991315], [118.26009281939388, 90.19852665129709], [91.04746091450338, 61.91126219573043], [8.318569102711178, 5.297937583529424]), ('trail #8', 93.14103937149048, 0.11768460273742676, [0.053053533056269864, 0.048879816061984195], [0.031071203749802385, 0.02786820584122582], [2.2534267557571224, 2.021194206115389], [117.93025389233762, 90.04198823913475], [90.60180887974307, 61.50493410598419], [8.268860760592995, 5.257113258082334])]"
   ]
  },
  {
   "cell_type": "code",
   "execution_count": 6,
   "metadata": {
    "collapsed": false,
    "pycharm": {
     "name": "#%%\n"
    }
   },
   "outputs": [
    {
     "name": "stdout",
     "output_type": "stream",
     "text": [
      "training time, median:87.98957014083862, std: 6.703481756993682\n",
      "eval time, median: 0.1327807903289795, std: 0.029807368234007838\n",
      "cap_rmse, median:[0.05340357 0.04825532], std: [0.00038636 0.00078617]\n",
      "cap_mae, median: [0.03117052 0.02754989], std: [0.00017323 0.00033855]\n",
      "cap_mape, median: [2.26180362 1.99551277], std: [0.01376858 0.02678722]\n",
      "life_rmse, median: [118.45965507  89.88761546], std: [1.07265746 0.71762378]\n",
      "life_mae, median: [91.24226703 61.74174931], std: [0.71401786 0.5241664 ]\n",
      "life_mape, median: [8.32724748 5.28623279], std: [0.08032567 0.05492206]\n"
     ]
    }
   ],
   "source": [
    "import numpy as np\n",
    "num_trials = len(results)\n",
    "num_datasets = 2\n",
    "training_time, eval_time = np.full(num_trials, np.nan), np.full(num_trials, np.nan)\n",
    "cap_rmse, cap_mae, cap_mape = np.full((num_trials, num_datasets), np.nan), \\\n",
    "                              np.full((num_trials, num_datasets), np.nan), \\\n",
    "                              np.full((num_trials, num_datasets), np.nan)\n",
    "life_rmse, life_mae, life_mape = np.full((num_trials, num_datasets), np.nan), \\\n",
    "                                 np.full((num_trials, num_datasets), np.nan), \\\n",
    "                                 np.full((num_trials, num_datasets), np.nan)\n",
    "\n",
    "for idx, trail in enumerate(results):\n",
    "    training_time[idx], eval_time[idx] = trail[1], trail[2]\n",
    "    cap_rmse[idx, :] = np.array(trail[3])\n",
    "    cap_mae[idx, :] = np.array(trail[4])\n",
    "    cap_mape[idx, :] = np.array(trail[5])\n",
    "    life_rmse[idx, :] = np.array(trail[6])\n",
    "    life_mae[idx, :] = np.array(trail[7])\n",
    "    life_mape[idx, :] = np.array(trail[8])\n",
    "\n",
    "print(f\"training time, median:{np.median(training_time)}, std: {training_time.std()}\")\n",
    "print(f\"eval time, median: {np.median(eval_time)}, std: {eval_time.std()}\")\n",
    "print(f\"cap_rmse, median:{np.median(cap_rmse, axis=0)}, std: {cap_rmse.std(axis=0)}\")\n",
    "print(f\"cap_mae, median: {np.median(cap_mae, axis=0)}, std: {cap_mae.std(axis=0)}\")\n",
    "print(f\"cap_mape, median: {np.median(cap_mape, axis=0)}, std: {cap_mape.std(axis=0)}\")\n",
    "print(f\"life_rmse, median: {np.median(life_rmse, axis=0)}, std: {life_rmse.std(axis=0)}\")\n",
    "print(f\"life_mae, median: {np.median(life_mae, axis=0)}, std: {life_mae.std(axis=0)}\")\n",
    "print(f\"life_mape, median: {np.median(life_mape, axis=0)}, std: {life_mape.std(axis=0)}\")"
   ]
  },
  {
   "cell_type": "markdown",
   "metadata": {
    "collapsed": false,
    "pycharm": {
     "name": "#%% md\n"
    }
   },
   "source": [
    "### Select the median plots"
   ]
  },
  {
   "cell_type": "code",
   "execution_count": 16,
   "metadata": {
    "collapsed": false,
    "pycharm": {
     "name": "#%%\n"
    }
   },
   "outputs": [],
   "source": [
    "results = [('trail #2', 42.93410897254944, 0.2030787467956543, [0.050583788511097134, 0.045386137439077365], [0.030393095722636033, 0.026631729579621632], [2.1909276208919195, 1.921562540428694], [104.64216983941095, 81.94701193679948], [85.03585342863657, 63.77533343427376], [7.6394051073161675, 5.438071899632386]), ('trail #5', 43.69043827056885, 0.18745660781860352, [0.05050065716301436, 0.04513859524946977], [0.03041534365686264, 0.026657508818753648], [2.18952120302794, 1.9201400774174209], [104.96700842067399, 82.74528317615473], [84.88852504944344, 63.85024942867117], [7.594009052286236, 5.417743804341675]), ('trail #6', 46.30547857284546, 0.13236737251281738, [0.05048460360314305, 0.04498661609396506], [0.0304029450503771, 0.026576120868242], [2.1892940731832398, 1.9143335746418244], [104.82316936681339, 82.37815345584455], [84.84261959868137, 63.77132807662908], [7.597517182929453, 5.417195966769748]), ('trail #1', 47.10701251029968, 0.09290528297424316, [0.05052215388311385, 0.045702348888946864], [0.03030215948123823, 0.026652356531494795], [2.1841520959081433, 1.9248265048698656], [104.88075103490824, 81.85633475565305], [85.29698686774519, 62.971366909471406], [7.665456028817362, 5.368446272525372]), ('trail #7', 47.99035930633545, 0.0738070011138916, [0.050362801098801493, 0.04514806995871288], [0.03020363100148263, 0.026387911269746937], [2.176774660430364, 1.9041229681989569], [105.15554768195315, 81.21935998295757], [85.19845048035731, 62.223996586337556], [7.657714539868979, 5.3017779222763055]), ('trail #4', 50.69411325454712, 0.05684995651245117, [0.050589951171054685, 0.04556268039252809], [0.030344152327171955, 0.026733811592632405], [2.1870693915139507, 1.9288311578512038], [104.85379755161922, 82.4457433510643], [85.32231545314859, 64.26517884233428], [7.666668570260386, 5.478132385122034]), ('trail #9', 50.34880352020264, 0.0797889232635498, [0.05041680247556735, 0.045201246829036416], [0.030289173499691742, 0.026475959197990284], [2.1819404739791644, 1.9101934174594408], [105.07052093724283, 81.49991939336726], [85.13757884456318, 63.00606516753451], [7.64433851334868, 5.364716626411485]), ('trail #0', 51.33398795127869, 0.07180976867675781, [0.050429042937040446, 0.04508172596746784], [0.030279105188831878, 0.026443508009205936], [2.181750126582314, 1.907260930877858], [105.17347235167384, 81.53797851081484], [85.22365274873536, 62.767301801586584], [7.656739192689894, 5.345611394268349]), ('trail #8', 51.4501838684082, 0.043882131576538086, [0.050357487406719276, 0.04487245759903851], [0.030225804957058185, 0.026330649570466623], [2.1775604803185433, 1.8984916668322491], [105.37871538265128, 81.2493805206588], [85.14303776929269, 62.72869319941699], [7.6464803173154845, 5.339545725342605]), ('trail #3', 51.97761917114258, 0.04887104034423828, [0.05043972219548712, 0.04509285675761744], [0.03030545410374426, 0.026611265166501006], [2.182957948342306, 1.9171704759548078], [104.99788972503909, 82.53402624931412], [85.02139009206573, 64.0650119355856], [7.623036181345018, 5.446884409999426])]\n"
   ]
  },
  {
   "cell_type": "code",
   "execution_count": 17,
   "metadata": {
    "collapsed": false,
    "pycharm": {
     "name": "#%%\n"
    }
   },
   "outputs": [
    {
     "name": "stdout",
     "output_type": "stream",
     "text": [
      "training time, median:49.16958141326904, std: 3.131322665438808\n",
      "eval time, median: 0.0767979621887207, std: 0.053738251671742024\n",
      "cap_rmse, median:[0.05046216 0.04514333], std: [7.79533715e-05 2.45012008e-04]\n",
      "cap_mae, median: [0.03030381 0.02659369], std: [6.87825812e-05 1.25756525e-04]\n",
      "cap_mape, median: [2.18355502 1.91575203], std: [0.00468647 0.00913999]\n",
      "life_rmse, median: [104.98244907  81.90167335], std: [0.19959001 0.52987773]\n",
      "life_mae, median: [85.14030831 63.38869662], std: [0.15379093 0.64899902]\n",
      "life_mape, median: [7.64540942 5.39282112], std: [0.02492924 0.05309753]\n"
     ]
    }
   ],
   "source": [
    "import numpy as np\n",
    "num_trials = len(results)\n",
    "num_datasets = 2\n",
    "training_time, eval_time = np.full(num_trials, np.nan), np.full(num_trials, np.nan)\n",
    "cap_rmse, cap_mae, cap_mape = np.full((num_trials, num_datasets), np.nan), \\\n",
    "                              np.full((num_trials, num_datasets), np.nan), \\\n",
    "                              np.full((num_trials, num_datasets), np.nan)\n",
    "life_rmse, life_mae, life_mape = np.full((num_trials, num_datasets), np.nan), \\\n",
    "                                 np.full((num_trials, num_datasets), np.nan), \\\n",
    "                                 np.full((num_trials, num_datasets), np.nan)\n",
    "trail_idxs = np.full(num_trials, np.nan)\n",
    "for idx, trail in enumerate(results):\n",
    "    trail_idxs[idx] = int(trail[0].split(\"#\")[-1])\n",
    "    training_time[idx], eval_time[idx] = trail[1], trail[2]\n",
    "    cap_rmse[idx, :] = np.array(trail[3])\n",
    "    cap_mae[idx, :] = np.array(trail[4])\n",
    "    cap_mape[idx, :] = np.array(trail[5])\n",
    "    life_rmse[idx, :] = np.array(trail[6])\n",
    "    life_mae[idx, :] = np.array(trail[7])\n",
    "    life_mape[idx, :] = np.array(trail[8])\n",
    "\n",
    "print(f\"training time, median:{np.median(training_time)}, std: {training_time.std()}\")\n",
    "print(f\"eval time, median: {np.median(eval_time)}, std: {eval_time.std()}\")\n",
    "print(f\"cap_rmse, median:{np.median(cap_rmse, axis=0)}, std: {cap_rmse.std(axis=0)}\")\n",
    "print(f\"cap_mae, median: {np.median(cap_mae, axis=0)}, std: {cap_mae.std(axis=0)}\")\n",
    "print(f\"cap_mape, median: {np.median(cap_mape, axis=0)}, std: {cap_mape.std(axis=0)}\")\n",
    "print(f\"life_rmse, median: {np.median(life_rmse, axis=0)}, std: {life_rmse.std(axis=0)}\")\n",
    "print(f\"life_mae, median: {np.median(life_mae, axis=0)}, std: {life_mae.std(axis=0)}\")\n",
    "print(f\"life_mape, median: {np.median(life_mape, axis=0)}, std: {life_mape.std(axis=0)}\")"
   ]
  },
  {
   "cell_type": "code",
   "execution_count": 18,
   "metadata": {
    "collapsed": false,
    "pycharm": {
     "name": "#%%\n"
    }
   },
   "outputs": [
    {
     "data": {
      "text/plain": [
       "array([2., 5., 6., 1., 7., 4., 9., 0., 8., 3.])"
      ]
     },
     "execution_count": 18,
     "metadata": {},
     "output_type": "execute_result"
    }
   ],
   "source": [
    "trail_idxs"
   ]
  },
  {
   "cell_type": "code",
   "execution_count": 19,
   "metadata": {
    "collapsed": false,
    "pycharm": {
     "name": "#%%\n"
    }
   },
   "outputs": [
    {
     "data": {
      "text/plain": [
       "2"
      ]
     },
     "execution_count": 19,
     "metadata": {},
     "output_type": "execute_result"
    }
   ],
   "source": [
    "cap_mae_all_data = cap_mae.mean(axis=1)\n",
    "life_mape_all_data = life_mape.mean(axis=1)\n",
    "np.argsort(life_mape_all_data)[len(life_mape_all_data)//2]"
   ]
  },
  {
   "cell_type": "code",
   "execution_count": 20,
   "metadata": {
    "collapsed": false,
    "pycharm": {
     "name": "#%%\n"
    }
   },
   "outputs": [
    {
     "data": {
      "text/plain": [
       "array([0.02851241, 0.02853643, 0.02848953, 0.02847726, 0.02829577,\n",
       "       0.02853898, 0.02838257, 0.02836131, 0.02827823, 0.02845836])"
      ]
     },
     "execution_count": 20,
     "metadata": {},
     "output_type": "execute_result"
    }
   ],
   "source": [
    "cap_mae_all_data"
   ]
  },
  {
   "cell_type": "code",
   "execution_count": 21,
   "metadata": {
    "collapsed": false,
    "pycharm": {
     "name": "#%%\n"
    }
   },
   "outputs": [
    {
     "data": {
      "text/plain": [
       "array([6.5387385 , 6.50587643, 6.50735657, 6.51695115, 6.47974623,\n",
       "       6.57240048, 6.50452757, 6.50117529, 6.49301302, 6.5349603 ])"
      ]
     },
     "execution_count": 21,
     "metadata": {},
     "output_type": "execute_result"
    }
   ],
   "source": [
    "life_mape_all_data"
   ]
  },
  {
   "cell_type": "code",
   "execution_count": null,
   "metadata": {
    "collapsed": false,
    "pycharm": {
     "name": "#%%\n"
    }
   },
   "outputs": [],
   "source": []
  }
 ],
 "metadata": {
  "accelerator": "TPU",
  "colab": {
   "collapsed_sections": [],
   "include_colab_link": true,
   "machine_shape": "hm",
   "name": "case_study_48 NMC.ipynb",
   "provenance": []
  },
  "gpuClass": "standard",
  "kernelspec": {
   "display_name": "Python 3.8.6 ('env': venv)",
   "language": "python",
   "name": "python3"
  },
  "language_info": {
   "codemirror_mode": {
    "name": "ipython",
    "version": 3
   },
   "file_extension": ".py",
   "mimetype": "text/x-python",
   "name": "python",
   "nbconvert_exporter": "python",
   "pygments_lexer": "ipython3",
   "version": "3.8.6"
  },
  "vscode": {
   "interpreter": {
    "hash": "bdb72e4b94bb2a3e5a66f79ca47c534b306d2aa6ce3c21c4ffceb6a0e72b4479"
   }
  }
 },
 "nbformat": 4,
 "nbformat_minor": 0
}
