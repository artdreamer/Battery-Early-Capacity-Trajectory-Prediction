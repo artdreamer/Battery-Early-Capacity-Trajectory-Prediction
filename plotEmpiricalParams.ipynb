{
 "cells": [
  {
   "cell_type": "code",
   "execution_count": 4,
   "metadata": {
    "colab": {
     "base_uri": "https://localhost:8080/"
    },
    "id": "O2v2pNlo-9L5",
    "outputId": "fdd9d833-ec7c-4ed8-9225-a69f62cf9818",
    "pycharm": {
     "name": "#%%\n"
    }
   },
   "outputs": [],
   "source": [
    "import numpy as np\n",
    "from matplotlib import cm\n",
    "import matplotlib.pyplot as plt\n"
   ]
  },
  {
   "cell_type": "markdown",
   "metadata": {
    "collapsed": false,
    "pycharm": {
     "name": "#%% md\n"
    }
   },
   "source": [
    "Load cycle life data"
   ]
  },
  {
   "cell_type": "code",
   "execution_count": 53,
   "metadata": {
    "collapsed": false,
    "pycharm": {
     "name": "#%%\n"
    }
   },
   "outputs": [],
   "source": [
    "raw_data_path = \"dataset/169 LFP\"\n",
    "precision = \"float32\""
   ]
  },
  {
   "cell_type": "code",
   "execution_count": 54,
   "metadata": {
    "id": "esBksrHa_C3p",
    "pycharm": {
     "name": "#%%\n"
    }
   },
   "outputs": [],
   "source": [
    "cycle_lives_train = np.genfromtxt(raw_data_path + '/cycle_lives/train_cycle_lives.csv',\n",
    "                                          delimiter=',', dtype=precision)\n",
    "cycle_lives_test1 = np.genfromtxt(raw_data_path + '/cycle_lives/test1_cycle_lives.csv',\n",
    "                                  delimiter=',', dtype=precision)\n",
    "cycle_lives_test2 = np.genfromtxt(raw_data_path + '/cycle_lives/test2_cycle_lives.csv',\n",
    "                                  delimiter=',', dtype=precision)\n",
    "cycle_lives_test3 = np.genfromtxt(raw_data_path + '/cycle_lives/test3_cycle_lives.csv',\n",
    "                                  delimiter=',', dtype=precision)"
   ]
  },
  {
   "cell_type": "markdown",
   "metadata": {
    "collapsed": false,
    "pycharm": {
     "name": "#%% md\n"
    }
   },
   "source": [
    "load empirical mdoel params"
   ]
  },
  {
   "cell_type": "code",
   "execution_count": 62,
   "metadata": {
    "collapsed": false,
    "pycharm": {
     "name": "#%%\n"
    }
   },
   "outputs": [],
   "source": [
    "params = []"
   ]
  },
  {
   "cell_type": "code",
   "execution_count": 64,
   "metadata": {
    "collapsed": false,
    "pycharm": {
     "name": "#%%\n"
    }
   },
   "outputs": [],
   "source": [
    "model_names = [\n",
    "            # \"E2E-Elastic-discharge\",\n",
    "            # \"E2E-Elastic-deltaQ\",\n",
    "            # \"Sequential-Elastic-discharge\",\n",
    "            # \"Sequential-Elastic-deltaQ\",\n",
    "            # \"Sequential-ENN-discharge\",\n",
    "            # \"Sequential-ENN-deltaQ\",\n",
    "            \"E2E-ENN-discharge\",\n",
    "            \"E2E-ENN-deltaQ\",\n",
    "]\n",
    "dataset_idxs = [0]\n",
    "for model_name in model_names:\n",
    "    file_path = \"End to End Framework/All empirical params/169 LFP/\" + model_name + '/dataset_'\n",
    "    for idx in dataset_idxs:\n",
    "        param = np.genfromtxt(file_path + str(idx) + '.csv', delimiter=',', dtype=\"float32\")\n",
    "        param[:, 0] = param[:, 0]\n",
    "        params.append(param)"
   ]
  },
  {
   "cell_type": "code",
   "execution_count": 65,
   "metadata": {
    "collapsed": false,
    "pycharm": {
     "name": "#%%\n"
    }
   },
   "outputs": [],
   "source": [
    "e2e_idx = [0, 1, 6, 7]\n",
    "seq_idx = [2, 3, 4, 5]\n",
    "all_idx = [e2e_idx, seq_idx]"
   ]
  },
  {
   "cell_type": "code",
   "execution_count": 66,
   "metadata": {
    "collapsed": false,
    "pycharm": {
     "name": "#%%\n"
    }
   },
   "outputs": [
    {
     "data": {
      "text/plain": [
       "8"
      ]
     },
     "execution_count": 66,
     "metadata": {},
     "output_type": "execute_result"
    }
   ],
   "source": [
    "len(params)"
   ]
  },
  {
   "cell_type": "code",
   "execution_count": 119,
   "metadata": {
    "colab": {
     "base_uri": "https://localhost:8080/",
     "height": 167
    },
    "id": "jrw78oTM88LY",
    "outputId": "f3bbb7aa-7085-49e8-d01f-bfc5ca00eca0",
    "pycharm": {
     "name": "#%%\n"
    }
   },
   "outputs": [
    {
     "data": {
      "image/png": "[encoded data removed]",
      "text/plain": [
       "<Figure size 550x300 with 8 Axes>"
      ]
     },
     "metadata": {},
     "output_type": "display_data"
    }
   ],
   "source": [
    "maxCycleAll = max([np.max(cycle_lives_train), np.max(cycle_lives_test1), np.max(cycle_lives_test2), np.max(cycle_lives_test3)])\n",
    "minCycleAll = min([np.min(cycle_lives_train), np.min(cycle_lives_test1), np.min(cycle_lives_test2), np.min(cycle_lives_test3)])\n",
    "cmap = cm.get_cmap('Blues')\n",
    "sz = 10\n",
    "fontSize = 9\n",
    "plt.rcParams['font.family'] = 'serif'\n",
    "plt.rcParams['font.serif'] = ['Times New Roman'] + plt.rcParams['font.serif']\n",
    "plt.rcParams['mathtext.fontset'] = 'cm'\n",
    "plt.rcParams[\"legend.loc\"] = 'lower left'\n",
    "fontdict = {'fontsize': fontSize,\n",
    " 'horizontalalignment': 'left'}\n",
    "fig, axs = plt.subplots(nrows=2, ncols=4, sharex='all', sharey='all', figsize=(5.5, 3))\n",
    "k = 0\n",
    "for type in range(2):\n",
    "    for model in range(4):\n",
    "        log10a, b = np.log10(params[all_idx[type][model]][:, 0]), params[all_idx[type][model]][:, 1]\n",
    "        axs[type][model].scatter(log10a, b, s=sz, c=cycle_lives_train, cmap=cmap, vmin=0, vmax=maxCycleAll)\n",
    "        axs[type][model].set_xticks(np.linspace(-15,-5,3), minor=False, fontSize=fontSize)\n",
    "        axs[type][model].set_xlim(-18, -2)\n",
    "        axs[type][model].set_ylim(1, 6)\n",
    "        axs[type][model].set_yticks(np.linspace(1,5,3), minor=False, fontSize=fontSize)\n",
    "        axs[type][model].tick_params(axis='both', labelsize=fontSize)\n",
    "        axs[type][model].set_title(chr(97 + k), loc='left', weight='bold', fontdict=fontdict)\n",
    "        axs[type][model].spines[\"top\"].set_color(\"gray\")\n",
    "        axs[type][model].spines[\"right\"].set_color(\"gray\")\n",
    "        axs[type][model].spines[\"bottom\"].set_color(\"gray\")\n",
    "        axs[type][model].spines[\"left\"].set_color(\"gray\")\n",
    "        k += 1\n",
    "\n",
    "    # axs[0].scatter(empirical_params_joint['b_bar_test1'], empirical_params_joint['log10_a_bar_test1'], s=sz, c=dataCycleLivesTest1, cmap=cmap, vmin=-2000, vmax=maxCycleAll)\n",
    "    # axs[0].scatter(empirical_params_joint['b_bar_test2'], empirical_params_joint['log10_a_bar_test2'], s=sz, c=dataCycleLivesTest2, cmap=cmap, vmin=0, vmax=maxCycleAll)\n",
    "    # axs[1].scatter(empirical_params_disjoint['b_test1_es'], empirical_params_disjoint['log10a_test1_es'], s=sz, c=dataCycleLivesTest1, cmap=cmap, vmin=0, vmax=maxCycleAll)\n",
    "    # sc1 = axs[1].scatter(empirical_params_disjoint['b_test2_es'], empirical_params_disjoint['log10a_test2_es'], s=sz, c=dataCycleLivesTest2, cmap=cmap, vmin=0, vmax=maxCycleAll)\n",
    "\n",
    "# set labels\n",
    "axs[1][0].set_xlabel('$\\mathrm{log}_{10}a$', fontsize=fontSize+1)\n",
    "axs[1][1].set_xlabel('$\\mathrm{log}_{10}a$', fontsize=fontSize+1)\n",
    "axs[1][2].set_xlabel('$\\mathrm{log}_{10}a$', fontsize=fontSize+1)\n",
    "axs[1][3].set_xlabel('$\\mathrm{log}_{10}a$', fontsize=fontSize+1)\n",
    "axs[0][0].set_ylabel('$b$', fontsize=fontSize+1)\n",
    "axs[1][0].set_ylabel('$b$', fontsize=fontSize+1)\n",
    "\n",
    "# axs[1].set_xlabel('$b$', fontsize=fontSize)\n",
    "#\n",
    "# # # Set limits for x and y axes\n",
    "# axs[0].set_xlim([1, 5])\n",
    "# axs[1].set_xlim([1, 5])\n",
    "# axs[0].set_ylim([-15, -3])\n",
    "# axs[1].set_ylim([-15, -3])\n",
    "#\n",
    "# # # set ticks\n",
    "# axs[0].set_xticks(np.linspace(1,5,3), minor=False)\n",
    "# axs[1].set_xticks(np.linspace(1,5,3), minor=False)\n",
    "# axs[0].tick_params(axis='both', labelsize=9)\n",
    "# axs[1].tick_params(axis='both', labelsize=9)\n",
    "#\n",
    "# cbar = fig.colorbar(sc1, ax=axs[1])\n",
    "# cbar.ax.set_xticks(np.linspace(0,2000,3), minor=False)\n",
    "# cbar.ax.tick_params(labelsize=9)\n",
    "# cbar.set_label('Cycle life', fontsize=9)  # cax == cb.ax\n",
    "fig.tight_layout(rect=[0, 0.01, 1, 0.99])\n",
    "plt.show()"
   ]
  },
  {
   "cell_type": "code",
   "execution_count": 120,
   "metadata": {
    "id": "WvsyW-qP-6S4",
    "pycharm": {
     "name": "#%%\n"
    }
   },
   "outputs": [],
   "source": [
    "fig.savefig(\"empirical_params.svg\", transparent=True, format='svg', dpi=1000)"
   ]
  },
  {
   "cell_type": "code",
   "execution_count": 121,
   "metadata": {
    "collapsed": false,
    "pycharm": {
     "name": "#%%\n"
    }
   },
   "outputs": [
    {
     "data": {
      "image/png": "[encoded data removed]",
      "text/plain": [
       "<Figure size 550x300 with 2 Axes>"
      ]
     },
     "metadata": {},
     "output_type": "display_data"
    }
   ],
   "source": [
    "maxCycleAll = max([np.max(cycle_lives_train), np.max(cycle_lives_test1), np.max(cycle_lives_test2), np.max(cycle_lives_test3)])\n",
    "cmap = cm.get_cmap('Blues')\n",
    "sz = 25\n",
    "fontSize = 9\n",
    "plt.rcParams['font.family'] = 'serif'\n",
    "plt.rcParams['font.serif'] = ['Times New Roman'] + plt.rcParams['font.serif']\n",
    "plt.rcParams['mathtext.fontset'] = 'cm'\n",
    "plt.rcParams[\"legend.loc\"] = 'lower left'\n",
    "fontdict = {'fontsize': fontSize,\n",
    " 'horizontalalignment': 'left'}\n",
    "fig, ax = plt.subplots(figsize=(5.5, 3))\n",
    "sc = ax.scatter(log10a, b, s=sz, c=cycle_lives_train, cmap=cmap, vmin=0, vmax=maxCycleAll)\n",
    "cbar = fig.colorbar(sc, ax=ax, ticks=[0, 500, 1000, 1500, 2000])\n",
    "cbar.ax.set_xticks(np.linspace(0,2000,3), minor=False)\n",
    "cbar.ax.tick_params(labelsize=9)\n",
    "cbar.set_label('Cycle life', fontsize=fontSize)  # cax == cb.ax\n",
    "fig.tight_layout(rect=[0, 0.01, 1, 0.99])\n",
    "sc.set_clim(0, maxCycleAll+1)\n",
    "plt.show()"
   ]
  },
  {
   "cell_type": "code",
   "execution_count": 122,
   "metadata": {
    "collapsed": false,
    "pycharm": {
     "name": "#%%\n"
    }
   },
   "outputs": [],
   "source": [
    "fig.savefig(\"empirical_params_1.svg\", transparent=True, format='svg', dpi=1000)"
   ]
  },
  {
   "cell_type": "code",
   "execution_count": null,
   "metadata": {
    "collapsed": false,
    "pycharm": {
     "name": "#%%\n"
    }
   },
   "outputs": [],
   "source": []
  }
 ],
 "metadata": {
  "colab": {
   "provenance": []
  },
  "kernelspec": {
   "display_name": "Python 3",
   "name": "python3"
  },
  "language_info": {
   "name": "python"
  }
 },
 "nbformat": 4,
 "nbformat_minor": 0
}