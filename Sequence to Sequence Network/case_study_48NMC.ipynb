{
 "cells": [
  {
   "cell_type": "markdown",
   "metadata": {},
   "source": [
    "### Results\n",
    "Run the seq-to-seq model 10 times on the dateaset with 169 LFP cells, results are summarizes below\n",
    "(`trial index`, `training time`, `test time`, [ `cap RMSE`,   `cap MAE`,  `cap MAPE`, `life RMSE`, `life MAE`, `life MAPE`])"
   ]
  },
  {
   "cell_type": "code",
   "execution_count": 1,
   "metadata": {
    "collapsed": false,
    "pycharm": {
     "name": "#%%\n"
    }
   },
   "outputs": [],
   "source": [
    "results = [('trail #1', 1494.2302503585815, 5.291286945343018, [0.16123781843405025, 0.15274096168577672], [0.07150493478892664, 0.06869909493252635], [5.426190348685181, 5.160560039803386], [107.37976712398417, 102.96764910746613], [87.04839676650714, 79.62062459415499], [7.602907286613066, 6.657977172611681]), ('trail #2', 1741.086716413498, 4.038663625717163, [0.15966320197146977, 0.15334017351269721], [0.07116298857880266, 0.069853550568223], [5.408564735645133, 5.259963255375624], [108.65819370845401, 105.65758680360075], [88.38666847155659, 82.70205373241856], [7.710066894421362, 6.906138035936832]), ('trail #0', 2434.9161727428436, 3.4269485473632812, [0.243053090121401, 0.2559979659505189], [0.1112112354389147, 0.11431959439069032], [8.347199985904522, 8.573072478175163], [127.01264111034557, 129.25929894104698], [97.55967171237494, 102.23191789994155], [8.222905855152323, 8.450624352630424])]"
   ]
  },
  {
   "cell_type": "code",
   "execution_count": 2,
   "metadata": {
    "collapsed": false,
    "pycharm": {
     "name": "#%%\n"
    }
   },
   "outputs": [
    {
     "name": "stdout",
     "output_type": "stream",
     "text": [
      "training time, median:1741.086716413498, std: 398.2220812387825\n",
      "eval time, median: 4.038663625717163, std: 0.7759594906478073\n",
      "cap_rmse, median:[0.16123782 0.15334017], std: [0.03894454 0.0485352 ]\n",
      "cap_mae, median: [0.07150493 0.06985355], std: [0.01879885 0.02123883]\n",
      "cap_mape, median: [5.42619035 5.25996326], std: [1.38115029 1.58576357]\n",
      "life_rmse, median: [108.65819371 105.6575868 ], std: [ 8.96889597 11.81114084]\n",
      "life_mae, median: [88.38666847 82.70205373], std: [ 4.67168612 10.01211147]\n",
      "life_mape, median: [7.71006689 6.90613804], std: [0.27057248 0.79306758]\n"
     ]
    }
   ],
   "source": [
    "import numpy as np\n",
    "num_trials = len(results)\n",
    "num_datasets = 2\n",
    "training_time, eval_time = np.full(num_trials, np.nan), np.full(num_trials, np.nan)\n",
    "cap_rmse, cap_mae, cap_mape = np.full((num_trials, num_datasets), np.nan), \\\n",
    "                              np.full((num_trials, num_datasets), np.nan), \\\n",
    "                              np.full((num_trials, num_datasets), np.nan)\n",
    "life_rmse, life_mae, life_mape = np.full((num_trials, num_datasets), np.nan), \\\n",
    "                                 np.full((num_trials, num_datasets), np.nan), \\\n",
    "                                 np.full((num_trials, num_datasets), np.nan)\n",
    "\n",
    "for idx, trail in enumerate(results):\n",
    "    training_time[idx], eval_time[idx] = trail[1], trail[2]\n",
    "    cap_rmse[idx, :] = np.array(trail[3])\n",
    "    cap_mae[idx, :] = np.array(trail[4])\n",
    "    cap_mape[idx, :] = np.array(trail[5])\n",
    "    life_rmse[idx, :] = np.array(trail[6])\n",
    "    life_mae[idx, :] = np.array(trail[7])\n",
    "    life_mape[idx, :] = np.array(trail[8])\n",
    "\n",
    "print(f\"training time, median:{np.median(training_time)}, std: {training_time.std()}\")\n",
    "print(f\"eval time, median: {np.median(eval_time)}, std: {eval_time.std()}\")\n",
    "print(f\"cap_rmse, median:{np.median(cap_rmse, axis=0)}, std: {cap_rmse.std(axis=0)}\")\n",
    "print(f\"cap_mae, median: {np.median(cap_mae, axis=0)}, std: {cap_mae.std(axis=0)}\")\n",
    "print(f\"cap_mape, median: {np.median(cap_mape, axis=0)}, std: {cap_mape.std(axis=0)}\")\n",
    "print(f\"life_rmse, median: {np.median(life_rmse, axis=0)}, std: {life_rmse.std(axis=0)}\")\n",
    "print(f\"life_mae, median: {np.median(life_mae, axis=0)}, std: {life_mae.std(axis=0)}\")\n",
    "print(f\"life_mape, median: {np.median(life_mape, axis=0)}, std: {life_mape.std(axis=0)}\")"
   ]
  },
  {
   "cell_type": "markdown",
   "metadata": {
    "collapsed": false,
    "pycharm": {
     "name": "#%% md\n"
    }
   },
   "source": [
    "Input 100 cycles"
   ]
  },
  {
   "cell_type": "code",
   "execution_count": 3,
   "metadata": {
    "collapsed": false,
    "pycharm": {
     "name": "#%%\n"
    }
   },
   "outputs": [],
   "source": [
    "results = [('trail #0', 0.0, 4.6999499797821045, [0.2430531137720927, 0.25599799202755097], [0.11121124205620667, 0.11431961776688697], [8.34720017339446, 8.573074145242572], [127.01260866220568, 129.25917298527017], [97.55965073776629, 102.23181853342935], [8.222903989870996, 8.450616175134904]), ('trail #1', 0.0, 4.709923982620239, [0.16123794207937625, 0.15274117048829794], [0.07150499859677725, 0.06869916962459684], [5.426194811680992, 5.160565488040447], [107.37975260066402, 102.96771422707174], [87.04835859153737, 79.62065141533537], [7.6029029833373185, 6.657978623619644]), ('trail #2', 0.0, 4.719897985458374, [0.15966322863670557, 0.15334021449089053], [0.07116300595532118, 0.06985356882214547], [5.408565882642409, 5.259964531287551], [108.65820642524335, 105.65767294260664], [88.38669241024283, 82.70215643968088], [7.71006932552451, 6.906147295640033])]"
   ]
  },
  {
   "cell_type": "code",
   "execution_count": 4,
   "metadata": {
    "collapsed": false,
    "pycharm": {
     "name": "#%%\n"
    }
   },
   "outputs": [
    {
     "name": "stdout",
     "output_type": "stream",
     "text": [
      "training time, median:0.0, std: 0.0\n",
      "eval time, median: 4.709923982620239, std: 0.008143739215500472\n",
      "cap_rmse, median:[0.16123794 0.15334021], std: [0.03894451 0.04853515]\n",
      "cap_mae, median: [0.071505   0.06985357], std: [0.01879883 0.02123882]\n",
      "cap_mape, median: [5.42619481 5.25996453], std: [1.38114906 1.58576273]\n",
      "life_rmse, median: [108.65820643 105.65767294], std: [ 8.96888178 11.81104702]\n",
      "life_mae, median: [88.38669241 82.70215644], std: [ 4.6716826 10.0120386]\n",
      "life_mape, median: [7.71006933 6.9061473 ], std: [0.27057249 0.79306166]\n"
     ]
    }
   ],
   "source": [
    "import numpy as np\n",
    "num_trials = len(results)\n",
    "num_datasets = 2\n",
    "training_time, eval_time = np.full(num_trials, np.nan), np.full(num_trials, np.nan)\n",
    "cap_rmse, cap_mae, cap_mape = np.full((num_trials, num_datasets), np.nan), \\\n",
    "                              np.full((num_trials, num_datasets), np.nan), \\\n",
    "                              np.full((num_trials, num_datasets), np.nan)\n",
    "life_rmse, life_mae, life_mape = np.full((num_trials, num_datasets), np.nan), \\\n",
    "                                 np.full((num_trials, num_datasets), np.nan), \\\n",
    "                                 np.full((num_trials, num_datasets), np.nan)\n",
    "\n",
    "for idx, trail in enumerate(results):\n",
    "    training_time[idx], eval_time[idx] = trail[1], trail[2]\n",
    "    cap_rmse[idx, :] = np.array(trail[3])\n",
    "    cap_mae[idx, :] = np.array(trail[4])\n",
    "    cap_mape[idx, :] = np.array(trail[5])\n",
    "    life_rmse[idx, :] = np.array(trail[6])\n",
    "    life_mae[idx, :] = np.array(trail[7])\n",
    "    life_mape[idx, :] = np.array(trail[8])\n",
    "\n",
    "print(f\"training time, median:{np.median(training_time)}, std: {training_time.std()}\")\n",
    "print(f\"eval time, median: {np.median(eval_time)}, std: {eval_time.std()}\")\n",
    "print(f\"cap_rmse, median:{np.median(cap_rmse, axis=0)}, std: {cap_rmse.std(axis=0)}\")\n",
    "print(f\"cap_mae, median: {np.median(cap_mae, axis=0)}, std: {cap_mae.std(axis=0)}\")\n",
    "print(f\"cap_mape, median: {np.median(cap_mape, axis=0)}, std: {cap_mape.std(axis=0)}\")\n",
    "print(f\"life_rmse, median: {np.median(life_rmse, axis=0)}, std: {life_rmse.std(axis=0)}\")\n",
    "print(f\"life_mae, median: {np.median(life_mae, axis=0)}, std: {life_mae.std(axis=0)}\")\n",
    "print(f\"life_mape, median: {np.median(life_mape, axis=0)}, std: {life_mape.std(axis=0)}\")"
   ]
  },
  {
   "cell_type": "markdown",
   "metadata": {
    "collapsed": false,
    "pycharm": {
     "name": "#%% md\n"
    }
   },
   "source": [
    "input 200 cycles"
   ]
  },
  {
   "cell_type": "code",
   "execution_count": 20,
   "metadata": {
    "collapsed": false,
    "pycharm": {
     "name": "#%%\n"
    }
   },
   "outputs": [],
   "source": [
    "results = [('trail #1', 0.0, 4.063198566436768, [0.17824394068386606, 0.17799746608361602], [0.08002215134911239, 0.07693916987627744], [6.112312017572357, 5.860617253929377], [106.180674661448, 103.1134502868873], [84.83969193180559, 78.93468173536522], [7.371167238559213, 6.594303308227811]), ('trail #2', 0.0, 4.078819751739502, [0.16947407023000868, 0.1629471433348954], [0.07694517536775063, 0.07242840100079774], [5.877747724911099, 5.517840962857008], [104.45467004002973, 98.91190217172614], [84.97723326721916, 76.64006347476679], [7.453226413269993, 6.451289071521671]), ('trail #0', 0.0, 4.239355802536011, [0.18835231518421908, 0.20872623194009066], [0.08337810668653171, 0.08599594542756676], [6.360163181824118, 6.60307030659169], [104.63473220530902, 102.53522904031523], [82.85510873855766, 81.64677686489627], [7.209137975049488, 6.918524850482427])]"
   ]
  },
  {
   "cell_type": "code",
   "execution_count": 21,
   "metadata": {
    "collapsed": false,
    "pycharm": {
     "name": "#%%\n"
    }
   },
   "outputs": [
    {
     "name": "stdout",
     "output_type": "stream",
     "text": [
      "training time, median:0.0, std: 0.0\n",
      "eval time, median: 4.078819751739502, std: 0.07961519736675496\n",
      "cap_rmse, median:[0.17824394 0.17799747], std: [0.00771347 0.01905108]\n",
      "cap_mae, median: [0.08002215 0.07693917], std: [0.00262706 0.00564162]\n",
      "cap_mape, median: [6.11231202 5.86061725], std: [0.19697018 0.45294773]\n",
      "life_rmse, median: [104.63473221 102.53522904], std: [0.77470083 1.85938592]\n",
      "life_mae, median: [84.83969193 78.93468174], std: [0.96958757 2.04634938]\n",
      "life_mape, median: [7.37116724 6.59430331], std: [0.10141573 0.1954715 ]\n"
     ]
    }
   ],
   "source": [
    "import numpy as np\n",
    "num_trials = len(results)\n",
    "num_datasets = 2\n",
    "training_time, eval_time = np.full(num_trials, np.nan), np.full(num_trials, np.nan)\n",
    "cap_rmse, cap_mae, cap_mape = np.full((num_trials, num_datasets), np.nan), \\\n",
    "                              np.full((num_trials, num_datasets), np.nan), \\\n",
    "                              np.full((num_trials, num_datasets), np.nan)\n",
    "life_rmse, life_mae, life_mape = np.full((num_trials, num_datasets), np.nan), \\\n",
    "                                 np.full((num_trials, num_datasets), np.nan), \\\n",
    "                                 np.full((num_trials, num_datasets), np.nan)\n",
    "\n",
    "for idx, trail in enumerate(results):\n",
    "    training_time[idx], eval_time[idx] = trail[1], trail[2]\n",
    "    cap_rmse[idx, :] = np.array(trail[3])\n",
    "    cap_mae[idx, :] = np.array(trail[4])\n",
    "    cap_mape[idx, :] = np.array(trail[5])\n",
    "    life_rmse[idx, :] = np.array(trail[6])\n",
    "    life_mae[idx, :] = np.array(trail[7])\n",
    "    life_mape[idx, :] = np.array(trail[8])\n",
    "\n",
    "print(f\"training time, median:{np.median(training_time)}, std: {training_time.std()}\")\n",
    "print(f\"eval time, median: {np.median(eval_time)}, std: {eval_time.std()}\")\n",
    "print(f\"cap_rmse, median:{np.median(cap_rmse, axis=0)}, std: {cap_rmse.std(axis=0)}\")\n",
    "print(f\"cap_mae, median: {np.median(cap_mae, axis=0)}, std: {cap_mae.std(axis=0)}\")\n",
    "print(f\"cap_mape, median: {np.median(cap_mape, axis=0)}, std: {cap_mape.std(axis=0)}\")\n",
    "print(f\"life_rmse, median: {np.median(life_rmse, axis=0)}, std: {life_rmse.std(axis=0)}\")\n",
    "print(f\"life_mae, median: {np.median(life_mae, axis=0)}, std: {life_mae.std(axis=0)}\")\n",
    "print(f\"life_mape, median: {np.median(life_mape, axis=0)}, std: {life_mape.std(axis=0)}\")"
   ]
  },
  {
   "cell_type": "markdown",
   "metadata": {
    "collapsed": false,
    "pycharm": {
     "name": "#%% md\n"
    }
   },
   "source": [
    "input 300 cycles"
   ]
  },
  {
   "cell_type": "code",
   "execution_count": 22,
   "metadata": {
    "collapsed": false,
    "pycharm": {
     "name": "#%%\n"
    }
   },
   "outputs": [],
   "source": [
    "results = [('trail #1', 0.0, 4.107826471328735, [0.17531306425256557, 0.17631355710327626], [0.07831327021612153, 0.07752199159003795], [6.034914277935106, 5.93284850474447], [97.91569866403586, 101.17604604295266], [77.9264450774328, 74.98275081769847], [6.801384678874002, 6.287708220270158]), ('trail #0', 0.0, 4.132419586181641, [0.16373135606562228, 0.16992140701040628], [0.06939155781200448, 0.07848730864934622], [5.3717648567582845, 5.931520233862102], [84.84654254740063, 108.46470166499105], [64.45125536258918, 77.60320240338788], [5.620531759692119, 6.512558593192018]), ('trail #2', 0.0, 4.129093408584595, [0.16640706539252084, 0.16444787457585336], [0.07574651436880231, 0.07552711637690665], [5.830204418223156, 5.762245804071426], [95.48399093532022, 99.40937580873505], [77.53493207049252, 75.87838008694234], [6.817297041931981, 6.411939209152306])]"
   ]
  },
  {
   "cell_type": "code",
   "execution_count": 23,
   "metadata": {
    "collapsed": false,
    "pycharm": {
     "name": "#%%\n"
    }
   },
   "outputs": [
    {
     "name": "stdout",
     "output_type": "stream",
     "text": [
      "training time, median:0.0, std: 0.0\n",
      "eval time, median: 4.129093408584595, std: 0.010894276661623445\n",
      "cap_rmse, median:[0.16640707 0.16992141], std: [0.00495101 0.00484898]\n",
      "cap_mae, median: [0.07574651 0.07752199], std: [0.00375012 0.00123262]\n",
      "cap_mape, median: [5.83020442 5.93152023], std: [0.27725642 0.08011164]\n",
      "life_rmse, median: [ 95.48399094 101.17604604], std: [5.67520291 3.9192481 ]\n",
      "life_mae, median: [77.53493207 75.87838009], std: [6.26202502 1.08750123]\n",
      "life_mape, median: [6.80138468 6.41193921], std: [0.56044763 0.09196333]\n"
     ]
    }
   ],
   "source": [
    "import numpy as np\n",
    "num_trials = len(results)\n",
    "num_datasets = 2\n",
    "training_time, eval_time = np.full(num_trials, np.nan), np.full(num_trials, np.nan)\n",
    "cap_rmse, cap_mae, cap_mape = np.full((num_trials, num_datasets), np.nan), \\\n",
    "                              np.full((num_trials, num_datasets), np.nan), \\\n",
    "                              np.full((num_trials, num_datasets), np.nan)\n",
    "life_rmse, life_mae, life_mape = np.full((num_trials, num_datasets), np.nan), \\\n",
    "                                 np.full((num_trials, num_datasets), np.nan), \\\n",
    "                                 np.full((num_trials, num_datasets), np.nan)\n",
    "\n",
    "for idx, trail in enumerate(results):\n",
    "    training_time[idx], eval_time[idx] = trail[1], trail[2]\n",
    "    cap_rmse[idx, :] = np.array(trail[3])\n",
    "    cap_mae[idx, :] = np.array(trail[4])\n",
    "    cap_mape[idx, :] = np.array(trail[5])\n",
    "    life_rmse[idx, :] = np.array(trail[6])\n",
    "    life_mae[idx, :] = np.array(trail[7])\n",
    "    life_mape[idx, :] = np.array(trail[8])\n",
    "\n",
    "print(f\"training time, median:{np.median(training_time)}, std: {training_time.std()}\")\n",
    "print(f\"eval time, median: {np.median(eval_time)}, std: {eval_time.std()}\")\n",
    "print(f\"cap_rmse, median:{np.median(cap_rmse, axis=0)}, std: {cap_rmse.std(axis=0)}\")\n",
    "print(f\"cap_mae, median: {np.median(cap_mae, axis=0)}, std: {cap_mae.std(axis=0)}\")\n",
    "print(f\"cap_mape, median: {np.median(cap_mape, axis=0)}, std: {cap_mape.std(axis=0)}\")\n",
    "print(f\"life_rmse, median: {np.median(life_rmse, axis=0)}, std: {life_rmse.std(axis=0)}\")\n",
    "print(f\"life_mae, median: {np.median(life_mae, axis=0)}, std: {life_mae.std(axis=0)}\")\n",
    "print(f\"life_mape, median: {np.median(life_mape, axis=0)}, std: {life_mape.std(axis=0)}\")"
   ]
  },
  {
   "cell_type": "code",
   "execution_count": null,
   "metadata": {
    "collapsed": false,
    "pycharm": {
     "name": "#%%\n"
    }
   },
   "outputs": [],
   "source": []
  }
 ],
 "metadata": {
  "kernelspec": {
   "display_name": "Python 3.8.6 ('env': venv)",
   "language": "python",
   "name": "python3"
  },
  "language_info": {
   "codemirror_mode": {
    "name": "ipython",
    "version": 2
   },
   "file_extension": ".py",
   "mimetype": "text/x-python",
   "name": "python",
   "nbconvert_exporter": "python",
   "pygments_lexer": "ipython2",
   "version": "3.8.6"
  },
  "vscode": {
   "interpreter": {
    "hash": "bdb72e4b94bb2a3e5a66f79ca47c534b306d2aa6ce3c21c4ffceb6a0e72b4479"
   }
  }
 },
 "nbformat": 4,
 "nbformat_minor": 0
}
