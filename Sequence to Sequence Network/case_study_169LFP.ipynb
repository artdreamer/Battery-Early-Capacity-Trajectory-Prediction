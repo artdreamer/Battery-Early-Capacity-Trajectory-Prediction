{
 "cells": [
  {
   "cell_type": "markdown",
   "metadata": {
    "colab_type": "text",
    "id": "view-in-github",
    "pycharm": {
     "name": "#%% md\n"
    }
   },
   "source": [
    "<a href=\"https://colab.research.google.com/github/artdreamer/battery_early_capacity_trajectory_prediction/blob/main/Sequence%20to%20Sequence%20Network/case_study_169LFP.ipynb\" target=\"_parent\"><img src=\"https://colab.research.google.com/assets/colab-badge.svg\" alt=\"Open In Colab\"/></a>"
   ]
  },
  {
   "cell_type": "markdown",
   "metadata": {
    "collapsed": false,
    "id": "_Se9bA2vzqIm",
    "pycharm": {
     "name": "#%% md\n"
    }
   },
   "source": [
    "### Mount the google drive"
   ]
  },
  {
   "cell_type": "code",
   "execution_count": null,
   "metadata": {
    "colab": {
     "base_uri": "https://localhost:8080/"
    },
    "id": "68D78wlfzqIr",
    "outputId": "39483a05-641a-43f7-f04b-fa4ee67591fb",
    "pycharm": {
     "name": "#%%\n"
    }
   },
   "outputs": [
    {
     "name": "stdout",
     "output_type": "stream",
     "text": [
      "Drive already mounted at /content/drive; to attempt to forcibly remount, call drive.mount(\"/content/drive\", force_remount=True).\n"
     ]
    }
   ],
   "source": [
    "from google.colab import drive\n",
    "import sys\n",
    "drive.mount('/content/drive')\n",
    "work_path = '/content/drive/My Drive/data for colab/Machine learning for battery early life prediction/Sequence to Sequence Network'\n",
    "sys.path.append(work_path)\n",
    "work_path = '/content/drive/My Drive/data for colab/Machine learning for battery early life prediction'\n",
    "sys.path.append(work_path)"
   ]
  },
  {
   "cell_type": "markdown",
   "metadata": {
    "collapsed": false,
    "id": "UM6ldWeAzqIu",
    "pycharm": {
     "name": "#%% md\n"
    }
   },
   "source": [
    "### GPU info"
   ]
  },
  {
   "cell_type": "code",
   "execution_count": null,
   "metadata": {
    "colab": {
     "base_uri": "https://localhost:8080/",
     "height": 35
    },
    "id": "in-dSW3ezqIv",
    "outputId": "5c5690e5-7e17-4c75-9817-93f143a92cf7",
    "pycharm": {
     "name": "#%%\n"
    }
   },
   "outputs": [
    {
     "data": {
      "application/vnd.google.colaboratory.intrinsic+json": {
       "type": "string"
      },
      "text/plain": [
       "'/device:GPU:0'"
      ]
     },
     "execution_count": 2,
     "metadata": {},
     "output_type": "execute_result"
    }
   ],
   "source": [
    "import tensorflow as tf\n",
    "tf.test.gpu_device_name()"
   ]
  },
  {
   "cell_type": "markdown",
   "metadata": {
    "collapsed": false,
    "id": "PpRWwUeZ4A8t",
    "pycharm": {
     "name": "#%% md\n"
    }
   },
   "source": []
  },
  {
   "cell_type": "code",
   "execution_count": null,
   "metadata": {
    "colab": {
     "base_uri": "https://localhost:8080/"
    },
    "id": "ttT26nl-4A8t",
    "outputId": "5d51fcc2-1789-4761-ac4c-bac092bf0567",
    "pycharm": {
     "name": "#%%\n"
    }
   },
   "outputs": [],
   "source": [
    "!nvidia-smi"
   ]
  },
  {
   "cell_type": "markdown",
   "metadata": {
    "collapsed": false,
    "id": "mSCE9faI4A8u",
    "pycharm": {
     "name": "#%% md\n"
    }
   },
   "source": [
    "### Run model"
   ]
  },
  {
   "cell_type": "code",
   "execution_count": null,
   "metadata": {},
   "outputs": [],
   "source": []
  },
  {
   "cell_type": "markdown",
   "metadata": {
    "collapsed": false,
    "id": "Q2wKBgbL4A8v",
    "pycharm": {
     "name": "#%% md\n"
    }
   },
   "source": [
    "### Results\n",
    "Run the seq-to-seq model 10 times on the dateaset with 169 LFP cells, results are summarizes below\n",
    "(`trial index`, `training time`, `test time`, [ `cap RMSE`,   `cap MAE`,  `cap MAPE`, `life RMSE`, `life MAE`, `life MAPE`])\n"
   ]
  },
  {
   "cell_type": "markdown",
   "metadata": {
    "collapsed": false,
    "pycharm": {
     "name": "#%% md\n"
    }
   },
   "source": [
    "100 cycles of inputs"
   ]
  },
  {
   "cell_type": "code",
   "execution_count": 3,
   "metadata": {
    "collapsed": false,
    "pycharm": {
     "name": "#%%\n"
    }
   },
   "outputs": [],
   "source": [
    "results = [('trail #2', 0.0, 129.24737238883972, [0.1823757183624478, 0.19663782963263135, 0.523713605105877, 0.3441705288158523], [0.12063929120578415, 0.1355372389246311, 0.34860059823840855, 0.2141326887326108], [12.38571564871363, 13.772248148563365, 35.41681382805109, 24.76566476954354], [314.17344249965714, 386.3732370701363, 499.6692192726798, 204.77561755099265], [197.5690559424152, 230.19576466667934, 408.10209402008104, 175.08131338171384], [26.80813596043969, 27.076265815924668, 36.136186439327936, 22.05001905292978]), ('trail #1', 0.0, 130.43407201766968, [0.24119809642434106, 0.23845223499284618, 0.5400100998580455, 0.3499716124600834], [0.14518910707769597, 0.15012657367402596, 0.34749404517933735, 0.20431569864352545], [15.119594037987111, 15.420508134134465, 35.39438657462597, 23.902829136285515], [316.33085051985154, 390.4959158550609, 471.1699536937009, 181.61945290909162], [188.93136942341823, 224.06839877109738, 381.4210798635704, 154.73836605407524], [24.523627595416805, 25.18196418873569, 33.92321697380861, 19.92239544241641]), ('trail #0', 0.0, 130.44025897979736, [0.25058961066803553, 0.24475964094467811, 0.5883623115718363, 0.4044984501269129], [0.15184226494691352, 0.1553494667057835, 0.39753211569041014, 0.2466179595225387], [15.810154134225913, 15.946687997451852, 40.28831373900175, 28.44417869216866], [315.7314231144922, 387.90455273642755, 517.1282188980656, 212.01165945262574], [200.44576958266708, 233.01094403795517, 428.55351639923293, 180.64067077534196], [27.212622784684793, 27.244923047958707, 38.43884392267253, 22.650267196638417])]\n"
   ]
  },
  {
   "cell_type": "code",
   "execution_count": 4,
   "metadata": {
    "collapsed": false,
    "pycharm": {
     "name": "#%%\n"
    }
   },
   "outputs": [
    {
     "name": "stdout",
     "output_type": "stream",
     "text": [
      "training time, median:0.0, std: 0.0\n",
      "eval time, median: 130.43407201766968, std: 0.5608795381117518\n",
      "cap_rmse, median:[0.2411981  0.23845223 0.5400101  0.34997161], std: [0.03018721 0.02135399 0.02745292 0.02717492]\n",
      "cap_mae, median: [0.14518911 0.15012657 0.3486006  0.21413269], std: [0.01341882 0.00838419 0.02333173 0.01807745]\n",
      "cap_mape, median: [15.11959404 15.42050813 35.41681383 24.76566477], std: [1.47865341 0.92627179 2.30175145 1.96920192]\n",
      "life_rmse, median: [315.73142311 387.90455274 499.66921927 204.77561755], std: [ 0.90927481  1.70152124 18.9419785  12.96257211]\n",
      "life_mae, median: [197.56905594 230.19576467 408.10209402 175.08131338], std: [ 4.89292597  3.73331791 19.2976791  11.13388896]\n",
      "life_mape, median: [26.80813596 27.07626582 36.13618644 22.05001905], std: [1.18383948 0.93527317 1.84361818 1.17039235]\n"
     ]
    }
   ],
   "source": [
    "import numpy as np\n",
    "num_trials = len(results)\n",
    "num_datasets = 4\n",
    "training_time, eval_time = np.full(num_trials, np.nan), np.full(num_trials, np.nan)\n",
    "cap_rmse, cap_mae, cap_mape = np.full((num_trials, num_datasets), np.nan), \\\n",
    "                              np.full((num_trials, num_datasets), np.nan), \\\n",
    "                              np.full((num_trials, num_datasets), np.nan)\n",
    "life_rmse, life_mae, life_mape = np.full((num_trials, num_datasets), np.nan), \\\n",
    "                                 np.full((num_trials, num_datasets), np.nan), \\\n",
    "                                 np.full((num_trials, num_datasets), np.nan)\n",
    "trail_idxs = np.full(num_trials, np.nan)\n",
    "for idx, trail in enumerate(results):\n",
    "    trail_idxs[idx] = int(trail[0].split(\"#\")[-1])\n",
    "    training_time[idx], eval_time[idx] = trail[1], trail[2]\n",
    "    cap_rmse[idx, :] = np.array(trail[3])\n",
    "    cap_mae[idx, :] = np.array(trail[4])\n",
    "    cap_mape[idx, :] = np.array(trail[5])\n",
    "    life_rmse[idx, :] = np.array(trail[6])\n",
    "    life_mae[idx, :] = np.array(trail[7])\n",
    "    life_mape[idx, :] = np.array(trail[8])\n",
    "\n",
    "print(f\"training time, median:{np.median(training_time)}, std: {training_time.std()}\")\n",
    "print(f\"eval time, median: {np.median(eval_time)}, std: {eval_time.std()}\")\n",
    "print(f\"cap_rmse, median:{np.median(cap_rmse, axis=0)}, std: {cap_rmse.std(axis=0)}\")\n",
    "print(f\"cap_mae, median: {np.median(cap_mae, axis=0)}, std: {cap_mae.std(axis=0)}\")\n",
    "print(f\"cap_mape, median: {np.median(cap_mape, axis=0)}, std: {cap_mape.std(axis=0)}\")\n",
    "print(f\"life_rmse, median: {np.median(life_rmse, axis=0)}, std: {life_rmse.std(axis=0)}\")\n",
    "print(f\"life_mae, median: {np.median(life_mae, axis=0)}, std: {life_mae.std(axis=0)}\")\n",
    "print(f\"life_mape, median: {np.median(life_mape, axis=0)}, std: {life_mape.std(axis=0)}\")"
   ]
  },
  {
   "cell_type": "markdown",
   "metadata": {
    "collapsed": false,
    "pycharm": {
     "name": "#%% md\n"
    }
   },
   "source": [
    "200 cycles of inputs"
   ]
  },
  {
   "cell_type": "code",
   "execution_count": 5,
   "metadata": {
    "collapsed": false,
    "pycharm": {
     "name": "#%%\n"
    }
   },
   "outputs": [],
   "source": [
    "results = [('trail #0', 0.0, 511.1491310596466, [0.20711854404610835, 0.2513835391062976, 0.31276999050751325, 0.22257142836848898], [0.11565357667007821, 0.1470409209973046, 0.1737100397469476, 0.1170404435031944], [12.38590546304405, 15.546429610168119, 18.15379709820263, 15.073755083398687], [213.76840138959102, 283.44014309352826, 325.8190768795066, 209.0720435073693], [120.47001926366767, 143.2643680183445, 241.413652384824, 169.27762625234502], [15.18932388900035, 14.706480412135733, 22.928579513762752, 23.864792898907318]), ('trail #2', 0.0, 511.0736286640167, [0.3596638709579298, 0.38773017469793564, 0.5567613114602864, 0.37401806571417384], [0.2352715572115125, 0.258330894146292, 0.37826628689654174, 0.23563122368521158], [24.85537673914578, 26.990742781864746, 38.62202502321452, 27.607414109839343], [293.71331564724045, 371.90362097857906, 463.30692827394364, 197.0765835977041], [180.86068869113726, 224.04011400432987, 387.4693192203471, 161.89792272669925], [23.146832711955902, 25.143080570645864, 35.1193696206496, 20.15381393965624]), ('trail #1', 0.0, 511.3584101200104, [0.2500083309984425, 0.27825473723489613, 0.3180020503117703, 0.23122482308083123], [0.14417768498064903, 0.16091094534134587, 0.18161009252071383, 0.12556065888040596], [15.54505836627468, 17.104132490653903, 18.97000314842444, 15.942691986759504], [184.52685679269362, 251.66538489868108, 368.49338732981363, 245.39835264393295], [123.45248847850894, 148.83207324961595, 268.3760879355541, 191.55719723412113], [17.09321850581586, 17.56247044480199, 26.53648604989035, 26.82637536577395])]"
   ]
  },
  {
   "cell_type": "code",
   "execution_count": 2,
   "metadata": {
    "collapsed": false,
    "pycharm": {
     "name": "#%%\n"
    }
   },
   "outputs": [
    {
     "name": "stdout",
     "output_type": "stream",
     "text": [
      "training time, median:0.0, std: 0.0\n",
      "eval time, median: 511.1491310596466, std: 0.12046152660610412\n",
      "cap_rmse, median:[0.25000833 0.27825474 0.31800205 0.23122482], std: [0.0642339  0.05897018 0.11380545 0.06944292]\n",
      "cap_mae, median: [0.14417768 0.16091095 0.18161009 0.12556066], std: [0.05101218 0.04951821 0.09462166 0.05400812]\n",
      "cap_mape, median: [15.54505837 17.10413249 18.97000315 15.94269199], std: [5.29307713 5.06780475 9.46230246 5.71463426]\n",
      "life_rmse, median: [213.76840139 283.44014309 368.49338733 209.07204351], std: [46.14944329 50.87310531 57.45879064 20.5439506 ]\n",
      "life_mae, median: [123.45248848 148.83207325 268.37608794 169.27762625], std: [27.79214423 36.83592732 63.45814761 12.60736941]\n",
      "life_mape, median: [17.09321851 17.56247044 26.53648605 23.8647929 ], std: [3.39268832 4.40384872 5.11314475 2.72978248]\n"
     ]
    }
   ],
   "source": [
    "import numpy as np\n",
    "num_trials = len(results)\n",
    "num_datasets = 4\n",
    "training_time, eval_time = np.full(num_trials, np.nan), np.full(num_trials, np.nan)\n",
    "cap_rmse, cap_mae, cap_mape = np.full((num_trials, num_datasets), np.nan), \\\n",
    "                              np.full((num_trials, num_datasets), np.nan), \\\n",
    "                              np.full((num_trials, num_datasets), np.nan)\n",
    "life_rmse, life_mae, life_mape = np.full((num_trials, num_datasets), np.nan), \\\n",
    "                                 np.full((num_trials, num_datasets), np.nan), \\\n",
    "                                 np.full((num_trials, num_datasets), np.nan)\n",
    "trail_idxs = np.full(num_trials, np.nan)\n",
    "for idx, trail in enumerate(results):\n",
    "    trail_idxs[idx] = int(trail[0].split(\"#\")[-1])\n",
    "    training_time[idx], eval_time[idx] = trail[1], trail[2]\n",
    "    cap_rmse[idx, :] = np.array(trail[3])\n",
    "    cap_mae[idx, :] = np.array(trail[4])\n",
    "    cap_mape[idx, :] = np.array(trail[5])\n",
    "    life_rmse[idx, :] = np.array(trail[6])\n",
    "    life_mae[idx, :] = np.array(trail[7])\n",
    "    life_mape[idx, :] = np.array(trail[8])\n",
    "\n",
    "print(f\"training time, median:{np.median(training_time)}, std: {training_time.std()}\")\n",
    "print(f\"eval time, median: {np.median(eval_time)}, std: {eval_time.std()}\")\n",
    "print(f\"cap_rmse, median:{np.median(cap_rmse, axis=0)}, std: {cap_rmse.std(axis=0)}\")\n",
    "print(f\"cap_mae, median: {np.median(cap_mae, axis=0)}, std: {cap_mae.std(axis=0)}\")\n",
    "print(f\"cap_mape, median: {np.median(cap_mape, axis=0)}, std: {cap_mape.std(axis=0)}\")\n",
    "print(f\"life_rmse, median: {np.median(life_rmse, axis=0)}, std: {life_rmse.std(axis=0)}\")\n",
    "print(f\"life_mae, median: {np.median(life_mae, axis=0)}, std: {life_mae.std(axis=0)}\")\n",
    "print(f\"life_mape, median: {np.median(life_mape, axis=0)}, std: {life_mape.std(axis=0)}\")"
   ]
  },
  {
   "cell_type": "markdown",
   "metadata": {
    "collapsed": false,
    "pycharm": {
     "name": "#%% md\n"
    }
   },
   "source": [
    "300 cycles of inputs"
   ]
  },
  {
   "cell_type": "code",
   "execution_count": 6,
   "metadata": {
    "id": "gw1UUbrZ4A8w",
    "pycharm": {
     "name": "#%%\n"
    }
   },
   "outputs": [],
   "source": [
    "results = [('trail #0', 0.0, 124.22095394134521, [0.16903704922737142, 0.20440226988423443, 0.27735067936591806, 0.21067778790990513], [0.09029058849711606, 0.11530750668385907, 0.1540545786032454, 0.11550836993588343], [9.897704810903566, 12.328593365271532, 16.23102393001318, 15.219859904092223], [90.22852562854956, 205.9802890158173, 353.1744517776199, 165.6089271426492], [57.45052538484758, 94.14054768784813, 238.0523876839624, 135.8215637745395], [7.677301612910139, 9.835036397261796, 22.77398216349494, 18.662271966838386]), ('trail #2', 0.0, 124.7305977344513, [0.22316380503882718, 0.26471556847294175, 0.3159317219164223, 0.21705449571212135], [0.13675852587855444, 0.16386785817199517, 0.19157287273555995, 0.12380208344095284], [14.848930754403519, 17.504238782982746, 20.030875159427524, 15.934450464944046], [195.63029529854913, 280.67473357932255, 282.9647703432628, 110.29112761592161], [98.4106976501602, 137.81944799157696, 215.65047631056368, 97.65146776144014], [11.5692103701016, 13.647803160436766, 19.083895676160395, 13.228859181892902]), ('trail #1', 0.0, 124.9230854511261, [0.18582865954149608, 0.24025609843166817, 0.2875488668913022, 0.210843967853321], [0.10464256649223587, 0.13640435514528124, 0.16648983362829312, 0.1191059492321478], [11.478313791747318, 14.708659363289671, 17.510993307223544, 15.436907743828165], [150.4420898596759, 192.2172084310877, 349.43939266084203, 156.10113692584582], [79.56883162196593, 104.08607201023841, 243.32769941068835, 129.76861981282192], [11.993337639351177, 12.177143836408643, 23.693626516772206, 17.524750528819013])]"
   ]
  },
  {
   "cell_type": "code",
   "execution_count": 7,
   "metadata": {
    "colab": {
     "base_uri": "https://localhost:8080/"
    },
    "id": "ije7-V4Q4A8x",
    "outputId": "1da8d7ff-fa6c-45e4-9644-67cfa576a73d",
    "pycharm": {
     "name": "#%%\n"
    }
   },
   "outputs": [
    {
     "name": "stdout",
     "output_type": "stream",
     "text": [
      "training time, median:0.0, std: 0.0\n",
      "eval time, median: 124.7305977344513, std: 0.29623132363997323\n",
      "cap_rmse, median:[0.18582866 0.2402561  0.28754887 0.21084397], std: [0.02262147 0.02476883 0.01632342 0.00296762]\n",
      "cap_mae, median: [0.10464257 0.13640436 0.16648983 0.11910595], std: [0.01942702 0.01988139 0.01560419 0.00339578]\n",
      "cap_mape, median: [11.47831379 14.70865936 17.51099331 15.43690774], std: [2.0648923  2.11521693 1.57857163 0.29912803]\n",
      "life_rmse, median: [150.44208986 205.98028902 349.43939266 156.10113693], std: [43.17558502 38.86360221 32.25286455 24.15002639]\n",
      "life_mae, median: [ 79.56883162 104.08607201 238.05238768 129.76861981], std: [16.73974345 18.6925429  11.99862597 16.75014367]\n",
      "life_mape, median: [11.56921037 12.17714384 22.77398216 17.52475053], std: [1.9423641  1.57004942 1.99198679 2.3397676 ]\n"
     ]
    }
   ],
   "source": [
    "import numpy as np\n",
    "num_trials = len(results)\n",
    "num_datasets = 4\n",
    "training_time, eval_time = np.full(num_trials, np.nan), np.full(num_trials, np.nan)\n",
    "cap_rmse, cap_mae, cap_mape = np.full((num_trials, num_datasets), np.nan), \\\n",
    "                              np.full((num_trials, num_datasets), np.nan), \\\n",
    "                              np.full((num_trials, num_datasets), np.nan)\n",
    "life_rmse, life_mae, life_mape = np.full((num_trials, num_datasets), np.nan), \\\n",
    "                                 np.full((num_trials, num_datasets), np.nan), \\\n",
    "                                 np.full((num_trials, num_datasets), np.nan)\n",
    "\n",
    "for idx, trail in enumerate(results):\n",
    "    training_time[idx], eval_time[idx] = trail[1], trail[2]\n",
    "    cap_rmse[idx, :] = np.array(trail[3])\n",
    "    cap_mae[idx, :] = np.array(trail[4])\n",
    "    cap_mape[idx, :] = np.array(trail[5])\n",
    "    life_rmse[idx, :] = np.array(trail[6])\n",
    "    life_mae[idx, :] = np.array(trail[7])\n",
    "    life_mape[idx, :] = np.array(trail[8])\n",
    "\n",
    "print(f\"training time, median:{np.median(training_time)}, std: {training_time.std()}\")\n",
    "print(f\"eval time, median: {np.median(eval_time)}, std: {eval_time.std()}\")\n",
    "print(f\"cap_rmse, median:{np.median(cap_rmse, axis=0)}, std: {cap_rmse.std(axis=0)}\")\n",
    "print(f\"cap_mae, median: {np.median(cap_mae, axis=0)}, std: {cap_mae.std(axis=0)}\")\n",
    "print(f\"cap_mape, median: {np.median(cap_mape, axis=0)}, std: {cap_mape.std(axis=0)}\")\n",
    "print(f\"life_rmse, median: {np.median(life_rmse, axis=0)}, std: {life_rmse.std(axis=0)}\")\n",
    "print(f\"life_mae, median: {np.median(life_mae, axis=0)}, std: {life_mae.std(axis=0)}\")\n",
    "print(f\"life_mape, median: {np.median(life_mape, axis=0)}, std: {life_mape.std(axis=0)}\")"
   ]
  },
  {
   "cell_type": "code",
   "execution_count": null,
   "metadata": {
    "id": "IZUNNVFMG_ND",
    "pycharm": {
     "name": "#%%\n"
    }
   },
   "outputs": [],
   "source": []
  },
  {
   "cell_type": "code",
   "execution_count": 12,
   "metadata": {
    "collapsed": false,
    "pycharm": {
     "name": "#%%\n"
    }
   },
   "outputs": [],
   "source": [
    "results = [('trail #0', 0.0, 38.905898094177246, [0.16903704922737142, 0.20440226988423443, 0.27735067936591806, 0.21067778790990513], [0.09029058849711606, 0.11530750668385907, 0.1540545786032454, 0.11550836993588343], [9.897704810903566, 12.328593365271532, 16.23102393001318, 15.219859904092223], [90.99558860126564, 206.29383618705495, 353.03582634781685, 164.1255819930877], [58.33305455252238, 94.4702548264139, 238.5508139805839, 134.90873237111796], [7.821679920750725, 9.845578428254385, 22.8529623562269, 18.499656958129805]), ('trail #1', 0.0, 38.977684020996094, [0.18582865954149608, 0.24025609843166817, 0.2875488668913022, 0.210843967853321], [0.10464256649223587, 0.13640435514528124, 0.16648983362829312, 0.1191059492321478], [11.478313791747318, 14.708659363289671, 17.510993307223544, 15.436907743828165], [150.85552144936895, 193.30978876731763, 349.24317524473275, 155.36786094008409], [79.6111236187981, 105.0809201947823, 244.28526098526612, 129.37728839722206], [11.99923081810796, 12.311310255882686, 23.811980213895456, 17.455315280296727]), ('trail #2', 0.0, 39.1886773109436, [0.22316380503882718, 0.26471556847294175, 0.3159317219164223, 0.21705449571212135], [0.13675852587855444, 0.16386785817199517, 0.19157287273555995, 0.12380208344095284], [14.848930754403519, 17.504238782982746, 20.030875159427524, 15.934450464944046], [195.76771427107883, 281.05179674592114, 283.0705006391681, 110.14115972983541], [99.03019605861114, 138.2682606040488, 215.811082067582, 97.39828407476148], [11.686687219248839, 13.718874829436183, 19.101474509642408, 13.166208766156522])]\n",
    "\n"
   ]
  },
  {
   "cell_type": "code",
   "execution_count": 14,
   "metadata": {
    "collapsed": false,
    "pycharm": {
     "name": "#%%\n"
    }
   },
   "outputs": [
    {
     "name": "stdout",
     "output_type": "stream",
     "text": [
      "training time, median:0.0, std: 0.0\n",
      "eval time, median: 38.977684020996094, std: 0.12001642162040874\n",
      "cap_rmse, median:[0.18582866 0.2402561  0.28754887 0.21084397], std: [0.02262147 0.02476883 0.01632342 0.00296762]\n",
      "cap_mae, median: [0.10464257 0.13640436 0.16648983 0.11910595], std: [0.01942702 0.01988139 0.01560419 0.00339578]\n",
      "cap_mape, median: [11.47831379 14.70865936 17.51099331 15.43690774], std: [2.0648923  2.11521693 1.57857163 0.29912803]\n",
      "life_rmse, median: [150.85552145 206.29383619 349.24317524 155.36786094], std: [42.91789958 38.66666396 32.12536877 23.65603054]\n",
      "life_mae, median: [ 79.61112362 105.08092019 238.55081398 129.3772884 ], std: [16.62031529 18.65550587 12.29615186 16.53376115]\n",
      "life_mape, median: [11.68668722 12.31131026 22.85296236 17.45531528], std: [1.89993849 1.60081564 2.03257473 2.30778282]\n"
     ]
    }
   ],
   "source": [
    "import numpy as np\n",
    "num_trials = len(results)\n",
    "num_datasets = 4\n",
    "training_time, eval_time = np.full(num_trials, np.nan), np.full(num_trials, np.nan)\n",
    "cap_rmse, cap_mae, cap_mape = np.full((num_trials, num_datasets), np.nan), \\\n",
    "                              np.full((num_trials, num_datasets), np.nan), \\\n",
    "                              np.full((num_trials, num_datasets), np.nan)\n",
    "life_rmse, life_mae, life_mape = np.full((num_trials, num_datasets), np.nan), \\\n",
    "                                 np.full((num_trials, num_datasets), np.nan), \\\n",
    "                                 np.full((num_trials, num_datasets), np.nan)\n",
    "\n",
    "for idx, trail in enumerate(results):\n",
    "    training_time[idx], eval_time[idx] = trail[1], trail[2]\n",
    "    cap_rmse[idx, :] = np.array(trail[3])\n",
    "    cap_mae[idx, :] = np.array(trail[4])\n",
    "    cap_mape[idx, :] = np.array(trail[5])\n",
    "    life_rmse[idx, :] = np.array(trail[6])\n",
    "    life_mae[idx, :] = np.array(trail[7])\n",
    "    life_mape[idx, :] = np.array(trail[8])\n",
    "\n",
    "print(f\"training time, median:{np.median(training_time)}, std: {training_time.std()}\")\n",
    "print(f\"eval time, median: {np.median(eval_time)}, std: {eval_time.std()}\")\n",
    "print(f\"cap_rmse, median:{np.median(cap_rmse, axis=0)}, std: {cap_rmse.std(axis=0)}\")\n",
    "print(f\"cap_mae, median: {np.median(cap_mae, axis=0)}, std: {cap_mae.std(axis=0)}\")\n",
    "print(f\"cap_mape, median: {np.median(cap_mape, axis=0)}, std: {cap_mape.std(axis=0)}\")\n",
    "print(f\"life_rmse, median: {np.median(life_rmse, axis=0)}, std: {life_rmse.std(axis=0)}\")\n",
    "print(f\"life_mae, median: {np.median(life_mae, axis=0)}, std: {life_mae.std(axis=0)}\")\n",
    "print(f\"life_mape, median: {np.median(life_mape, axis=0)}, std: {life_mape.std(axis=0)}\")"
   ]
  },
  {
   "cell_type": "code",
   "execution_count": null,
   "metadata": {
    "collapsed": false,
    "pycharm": {
     "name": "#%%\n"
    }
   },
   "outputs": [],
   "source": []
  }
 ],
 "metadata": {
  "accelerator": "GPU",
  "colab": {
   "collapsed_sections": [],
   "include_colab_link": true,
   "machine_shape": "hm",
   "name": "case_study_169LFP.ipynb",
   "provenance": []
  },
  "gpuClass": "standard",
  "kernelspec": {
   "display_name": "Python 3.8.6 ('env': venv)",
   "language": "python",
   "name": "python3"
  },
  "language_info": {
   "codemirror_mode": {
    "name": "ipython",
    "version": 2
   },
   "file_extension": ".py",
   "mimetype": "text/x-python",
   "name": "python",
   "nbconvert_exporter": "python",
   "pygments_lexer": "ipython2",
   "version": "3.8.6"
  },
  "vscode": {
   "interpreter": {
    "hash": "bdb72e4b94bb2a3e5a66f79ca47c534b306d2aa6ce3c21c4ffceb6a0e72b4479"
   }
  }
 },
 "nbformat": 4,
 "nbformat_minor": 0
}
